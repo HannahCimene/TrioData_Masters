{
 "cells": [
  {
   "cell_type": "markdown",
   "metadata": {},
   "source": [
    "## Comparing the models\n",
    "In this notebook we will be comparing the four models that we individually trained and judge which one is the best.  \n",
    "We will start by displaying relevant metrics for each models."
   ]
  },
  {
   "cell_type": "markdown",
   "metadata": {},
   "source": [
    "#### Emalisa's model: PyCaret XGBoost\n",
    "\n",
    "|      | MAE    | MSE    | RMSE   | R2     | RMSLE  | MAPE   |\n",
    "|------|--------|--------|--------|--------|--------|--------|\n",
    "| Mean | 0.0320 | 0.0021 | 0.0462 | 0.9894 | 0.0226 | 0.0226 |\n",
    "| Std  | 0.0014 | 0.0002 | 0.0026 | 0.0014 | 0.0020 | 0.0020 |\n",
    "\n",
    "**Residuals**  \n",
    "<br/>\n",
    "<img src=\"../img/ea_residuals.png\" width=\"500\"/>  \n",
    "<br/>\n",
    "**Prediction Error**  \n",
    "<br/>\n",
    "<img src=\"../img/ea_predictionerror.png\" width=\"500\"/>  \n",
    "<br/>\n",
    "**Feature Importance**  \n",
    "<br/>\n",
    "<img src=\"../img/ea_featureimportance.png\" width=\"500\"/>  \n",
    "<br/>"
   ]
  },
  {
   "cell_type": "markdown",
   "metadata": {},
   "source": [
    "#### Liesa's Model: AWS"
   ]
  },
  {
   "cell_type": "markdown",
   "metadata": {},
   "source": [
    "#### Hannah's Model: AWS"
   ]
  },
  {
   "cell_type": "markdown",
   "metadata": {},
   "source": [
    "#### Jeffrey's Model: Pycaret "
   ]
  },
  {
   "cell_type": "markdown",
   "metadata": {},
   "source": [
    "#### Jeffrey's Model: Manual  "
   ]
  }
 ],
 "metadata": {
  "language_info": {
   "name": "python"
  }
 },
 "nbformat": 4,
 "nbformat_minor": 2
}
