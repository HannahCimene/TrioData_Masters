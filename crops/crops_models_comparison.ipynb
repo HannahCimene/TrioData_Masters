{
 "cells": [
  {
   "cell_type": "markdown",
   "metadata": {},
   "source": [
    "## Comparing the models\n",
    "In this notebook we will be comparing the four models that we individually trained and judge which one is the best.  \n",
    "We will start by displaying relevant metrics for each models."
   ]
  },
  {
   "cell_type": "markdown",
   "metadata": {},
   "source": [
    "#### Emalisa's model: PyCaret XGBoost\n",
    "\n",
    "|      | MAE    | MSE    | RMSE   | R2     | RMSLE  | MAPE   |\n",
    "|------|--------|--------|--------|--------|--------|--------|\n",
    "| Mean | 0.0320 | 0.0021 | 0.0462 | 0.9894 | 0.0226 | 0.0226 |\n",
    "| Std  | 0.0014 | 0.0002 | 0.0026 | 0.0014 | 0.0020 | 0.0020 |\n",
    "\n",
    "**Residuals**  \n",
    "<br/>\n",
    "<img src=\"../img/ea_residuals.png\" width=\"500\"/>  \n",
    "<br/>\n",
    "**Prediction Error**  \n",
    "<br/>\n",
    "<img src=\"../img/ea_predictionerror.png\" width=\"500\"/>  \n",
    "<br/>\n",
    "**Feature Importance**  \n",
    "<br/>\n",
    "<img src=\"../img/ea_featureimportance.png\" width=\"500\"/>  \n",
    "<br/>"
   ]
  },
  {
   "cell_type": "markdown",
   "metadata": {},
   "source": [
    "#### Liesa's Model: AWS\n",
    "\n",
    "**info**\n",
    "<br/>\n",
    "<img src=\"../img/mse_crops_Liesa.png\" width=\"250\"/>  \n",
    "\n",
    "\n",
    "**Arima**\n",
    "<br/>\n",
    "<img src=\"../img/info_predictions_crops_Liesa.png\" width=\"500\"/>\n",
    "<br/>\n",
    "<img src=\"../img/autocorrelation_crops_Liesa.png\" width=\"500\"/>\n",
    "<br/>\n",
    "<img src=\"../img/partial_autocorrelation_crops_Liesa.png\" width=\"500\"/>\n",
    "\n",
    "\n",
    "\n"
   ]
  },
  {
   "cell_type": "markdown",
   "metadata": {},
   "source": [
    "#### Hannah's Model: AWS (Linear Regression)\n",
    "\n",
    "**Info**  \n",
    "<br/>\n",
    "<img src=\"../img/info_linear_regression_hannah.png\" width=\"250\"/>  \n",
    "<br/>\n",
    "**Residual Analysis**  \n",
    "<br/>\n",
    "<img src=\"../img/residual_analysis_linear_regression_hannah.png\" width=\"500\"/>  \n",
    "<br/>\n"
   ]
  },
  {
   "cell_type": "markdown",
   "metadata": {},
   "source": [
    "#### Jeffrey's Model: Pycaret "
   ]
  },
  {
   "cell_type": "markdown",
   "metadata": {},
   "source": [
    "#### Jeffrey's Model: Manual  "
   ]
  }
 ],
 "metadata": {
  "language_info": {
   "name": "python"
  }
 },
 "nbformat": 4,
 "nbformat_minor": 2
}
