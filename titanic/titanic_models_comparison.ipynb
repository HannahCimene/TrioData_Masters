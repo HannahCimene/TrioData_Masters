{
 "cells": [
  {
   "cell_type": "markdown",
   "metadata": {},
   "source": [
    "## Comparing the models\n",
    "In this notebook we will be comparing the four models that we individually trained and judge which one is the best.  \n",
    "We will start by displaying relevant metrics for each models."
   ]
  },
  {
   "cell_type": "markdown",
   "metadata": {},
   "source": [
    "#### Emalisa's model: AWS XGBoost\n",
    "**Confusion Matrix**  \n",
    "<br/>\n",
    "<img src=\"../img/ea_cm.png\" width=\"500\"/>  \n",
    "<br/>\n",
    "Sensitivity or TPR: 30.508474576271187%  \n",
    "Specificity or TNR: 88.88888888888889%  \n",
    "Precision: 69.23076923076923%  \n",
    "Negative Predictive Value: 60.952380952380956%  \n",
    "False Positive Rate: 11.11111111111111%  \n",
    "False Negative Rate: 69.49152542372882%  \n",
    "False Discovery Rate: 30.76923076923077%  \n",
    "Accuracy: 62.59541984732825%  \n",
    "<br/>\n",
    "**ROC-AUC**  \n",
    "<br/>\n",
    "<img src=\"../img/ea_rocauc.png\" width=\"500\"/>  "
   ]
  },
  {
   "cell_type": "markdown",
   "metadata": {},
   "source": [
    "#### Liesa's model: Pycaret\n",
    "\n",
    "**Info**  \n",
    "<br/>\n",
    "<img src=\"../img/Algemene_selectie_models_titanic.png\" width=\"500\"/>  \n",
    "<img src=\"../img/gbc_titanic.png\" width=\"500\"/> \n",
    "\n",
    "**Feature importance**\n",
    "<br/>\n",
    "<img src=\"../img/feature_importance_titanic_Liesa.png\" width=\"500\"/>\n",
    "\n",
    "**Confusion Matrix**\n",
    "<br/>\n",
    "<img src=\"../img/confusion_matrix_titanic_Liesa.png\" width=\"500\"/>\n",
    "<br/>\n",
    "**ROC-AUC**\n",
    "<br/>\n",
    "<img src=\"../img/ROC_titanic.png\" width=\"500\"/>"
   ]
  },
  {
   "cell_type": "markdown",
   "metadata": {},
   "source": [
    "#### Hannah's model: Pycaret (Naive Bayes)\n",
    "\n",
    "**Info**  \n",
    "<br/>\n",
    "<img src=\"../img/info_naive_bayes_hannah.png\" width=\"500\"/>  \n",
    "<br/>\n",
    "**Confusion Matrix**\n",
    "<br/>\n",
    "<img src=\"../img/confusion_matrix_naive_bayes_hannah.png\" width=\"500\"/>\n",
    "<br/>\n",
    "**ROC-AUC**\n",
    "<br/>\n",
    "<img src=\"../img/AUC_naive_bayes_hannah.png\" width=\"500\"/>\n"
   ]
  },
  {
   "cell_type": "markdown",
   "metadata": {},
   "source": [
    "#### Jeffrey's model: Manual RandomForestClassifier\n",
    "**Confusion Matrix**  \n",
    "<br/>\n",
    "<img src=\"../img/js_cm.png\" width=\"500\"/>  \n",
    "<br/>\n",
    "Sensitivity or TPR: 70.33898305084746%  \n",
    "Specificity or TNR: 90.27777777777779%  \n",
    "Precision: 85.56701030927834%  \n",
    "Negative Predictive Value: 78.78787878787878%  \n",
    "False Positive Rate: 9.722222222222223%  \n",
    "False Negative Rate: 29.66101694915254%  \n",
    "False Discovery Rate: 14.432989690721648%  \n",
    "Accuracy: 81.29770992366412%  \n",
    "<br/>\n",
    "**ROC-AUC**  \n",
    "<br/>\n",
    "<img src=\"../img/js_rocauc.png\" width=\"500\"/>  "
   ]
  },
  {
   "cell_type": "markdown",
   "metadata": {},
   "source": [
    "#### Comparison"
   ]
  }
 ],
 "metadata": {
  "language_info": {
   "name": "python"
  }
 },
 "nbformat": 4,
 "nbformat_minor": 2
}
