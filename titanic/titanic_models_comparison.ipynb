{
 "cells": [
  {
   "cell_type": "markdown",
   "metadata": {},
   "source": [
    "## Comparing the models\n",
    "In this notebook we will be comparing the four models that we individually trained and judge which one is the best.  \n",
    "We will start by displaying relevant metrics for each models."
   ]
  },
  {
   "cell_type": "markdown",
   "metadata": {},
   "source": [
    "#### Emalisa's model: AWS XGBoost\n",
    "**Confusion Matrix**  \n",
    "<br/>\n",
    "<img src=\"../img/ea_cm.png\" width=\"500\"/>  \n",
    "<br/>\n",
    "Sensitivity or TPR: 30.508474576271187%  \n",
    "Specificity or TNR: 88.88888888888889%  \n",
    "Precision: 69.23076923076923%  \n",
    "Negative Predictive Value: 60.952380952380956%  \n",
    "False Positive Rate: 11.11111111111111%  \n",
    "False Negative Rate: 69.49152542372882%  \n",
    "False Discovery Rate: 30.76923076923077%  \n",
    "Accuracy: 62.59541984732825%  \n",
    "<br/>\n",
    "**ROC-AUC**  \n",
    "<br/>\n",
    "<img src=\"../img/ea_rocauc.png\" width=\"500\"/>  "
   ]
  },
  {
   "cell_type": "markdown",
   "metadata": {},
   "source": [
    "#### Liesa's model: Pycaret"
   ]
  },
  {
   "cell_type": "markdown",
   "metadata": {},
   "source": [
    "#### Hannah's model: Pycaret"
   ]
  },
  {
   "cell_type": "markdown",
   "metadata": {},
   "source": [
    "#### Jeffrey's model: Manual XGBoost"
   ]
  },
  {
   "cell_type": "markdown",
   "metadata": {},
   "source": [
    "#### Comparison"
   ]
  }
 ],
 "metadata": {
  "language_info": {
   "name": "python"
  }
 },
 "nbformat": 4,
 "nbformat_minor": 2
}
