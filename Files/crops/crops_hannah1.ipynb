{
 "cells": [
  {
   "cell_type": "code",
   "execution_count": null,
   "id": "2a1fa04b",
   "metadata": {},
   "outputs": [
    {
     "name": "stdout",
     "output_type": "stream",
     "text": [
      "Requirement already satisfied: openpyxl in /home/ec2-user/anaconda3/envs/python3/lib/python3.10/site-packages (3.1.2)\n",
      "Requirement already satisfied: et-xmlfile in /home/ec2-user/anaconda3/envs/python3/lib/python3.10/site-packages (from openpyxl) (1.1.0)\n",
      "Requirement already satisfied: awswrangler in /home/ec2-user/anaconda3/envs/python3/lib/python3.10/site-packages (3.4.1)\n",
      "Requirement already satisfied: boto3<2.0.0,>=1.20.32 in /home/ec2-user/anaconda3/envs/python3/lib/python3.10/site-packages (from awswrangler) (1.28.57)\n",
      "Requirement already satisfied: botocore<2.0.0,>=1.23.32 in /home/ec2-user/anaconda3/envs/python3/lib/python3.10/site-packages (from awswrangler) (1.31.57)\n",
      "Requirement already satisfied: numpy<2.0,>=1.18 in /home/ec2-user/anaconda3/envs/python3/lib/python3.10/site-packages (from awswrangler) (1.22.3)\n",
      "Requirement already satisfied: packaging<24.0,>=21.1 in /home/ec2-user/anaconda3/envs/python3/lib/python3.10/site-packages (from awswrangler) (21.3)\n",
      "Requirement already satisfied: pandas<3.0.0,>=1.2.0 in /home/ec2-user/anaconda3/envs/python3/lib/python3.10/site-packages (from awswrangler) (2.0.3)\n",
      "Requirement already satisfied: pyarrow>=7.0.0 in /home/ec2-user/anaconda3/envs/python3/lib/python3.10/site-packages (from awswrangler) (12.0.1)\n",
      "Requirement already satisfied: typing-extensions<5.0.0,>=4.4.0 in /home/ec2-user/anaconda3/envs/python3/lib/python3.10/site-packages (from awswrangler) (4.7.1)\n",
      "Requirement already satisfied: jmespath<2.0.0,>=0.7.1 in /home/ec2-user/anaconda3/envs/python3/lib/python3.10/site-packages (from boto3<2.0.0,>=1.20.32->awswrangler) (1.0.1)\n",
      "Requirement already satisfied: s3transfer<0.8.0,>=0.7.0 in /home/ec2-user/anaconda3/envs/python3/lib/python3.10/site-packages (from boto3<2.0.0,>=1.20.32->awswrangler) (0.7.0)\n",
      "Requirement already satisfied: python-dateutil<3.0.0,>=2.1 in /home/ec2-user/anaconda3/envs/python3/lib/python3.10/site-packages (from botocore<2.0.0,>=1.23.32->awswrangler) (2.8.2)\n",
      "Requirement already satisfied: urllib3<1.27,>=1.25.4 in /home/ec2-user/anaconda3/envs/python3/lib/python3.10/site-packages (from botocore<2.0.0,>=1.23.32->awswrangler) (1.26.14)\n",
      "Requirement already satisfied: pyparsing!=3.0.5,>=2.0.2 in /home/ec2-user/anaconda3/envs/python3/lib/python3.10/site-packages (from packaging<24.0,>=21.1->awswrangler) (3.0.9)\n",
      "Requirement already satisfied: pytz>=2020.1 in /home/ec2-user/anaconda3/envs/python3/lib/python3.10/site-packages (from pandas<3.0.0,>=1.2.0->awswrangler) (2023.3)\n",
      "Requirement already satisfied: tzdata>=2022.1 in /home/ec2-user/anaconda3/envs/python3/lib/python3.10/site-packages (from pandas<3.0.0,>=1.2.0->awswrangler) (2023.3)\n",
      "Requirement already satisfied: six>=1.5 in /home/ec2-user/anaconda3/envs/python3/lib/python3.10/site-packages (from python-dateutil<3.0.0,>=2.1->botocore<2.0.0,>=1.23.32->awswrangler) (1.16.0)\n"
     ]
    }
   ],
   "source": [
    "!pip install openpyxl\n",
    "!pip install awswrangler\n",
    "import openpyxl\n",
    "import awswrangler\n",
    "import pandas as pd\n",
    "import numpy as np\n",
    "import matplotlib.pyplot as plt\n",
    "import seaborn as sns\n",
    "import numpy as np\n",
    "import boto3\n",
    "import io\n",
    "import os\n",
    "# s3_path = \"s3://<your-bucket-name>/food-twentieth-century-crop-statistics-1900-2017-xlsx.xlsx\"\n",
    "s3_path = \"s3://c93435a2086654l4910637t1w0854223549-sandboxbucket-yk2arc2gss8l/food-twentieth-century-crop-statistics-1900-2017-xlsx.xlsx\"\n",
    "df = awswrangler.s3.read_excel(s3_path, sheet_name=\"CropStats\", usecols=lambda name: name != 'Unnamed: 0')\n",
    "print(df.head())"
   ]
  },
  {
   "cell_type": "code",
   "execution_count": null,
   "id": "a8c9f987",
   "metadata": {},
   "outputs": [],
   "source": [
    "df.drop(['admin2', 'notes', 'Harvest_year'], axis=1, inplace=True)\n",
    "df.rename(columns = {'admin0': 'national', 'admin1': 'subnational', 'hectares (ha)': 'hectares_ha', 'production (tonnes)': 'production_tonnes', 'yield(tonnes/ha)': 'yield_tonnes_ha'}, inplace=True)\n",
    "df.loc[df['subnational'].isna(), 'subnational'] = df['national']\n",
    "# Calculate yield\n",
    "mask = df['yield_tonnes_ha'].isna() & ~df['production_tonnes'].isna() & ~df['hectares_ha'].isna() & df['hectares_ha'] != 0\n",
    "df.loc[mask, 'yield_tonnes_ha'] = df['production_tonnes'] / df['hectares_ha']\n",
    "df.dropna(subset=['yield_tonnes_ha'], inplace=True)\n",
    "# Calculate production\n",
    "mask = df['production_tonnes'].isna() & ~df['yield_tonnes_ha'].isna() & ~df['hectares_ha'].isna()\n",
    "df.loc[mask, 'production_tonnes'] = df['yield_tonnes_ha'] * df['hectares_ha']\n",
    "df.dropna(subset=['production_tonnes'], inplace=True)\n",
    "# Calculate hectares\n",
    "mask = df['hectares_ha'].isna() & ~df['yield_tonnes_ha'].isna() & ~df['production_tonnes'].isna()\n",
    "df.loc[mask, 'hectares_ha'] = df['yield_tonnes_ha'] * df['production_tonnes']\n",
    "df.dropna(subset=['hectares_ha'], inplace=True)\n",
    "# The columns we just adapted just changed into objects, let's make them floats again\n",
    "df['hectares_ha'] = df['hectares_ha'].astype(float)\n",
    "df['production_tonnes'] = df['production_tonnes'].astype(float)\n",
    "df['yield_tonnes_ha'] = df['yield_tonnes_ha'].astype(float)\n",
    "# Filter for wheat\n",
    "df = df[df['crop'] == 'wheat']\n",
    "# Remove the crop column\n",
    "df.drop('crop', axis=1, inplace =True)\n",
    "# Logarithmic transformations\n",
    "df['log_yield'] = np.log1p(df['yield_tonnes_ha'])\n",
    "df['log_hectares'] = np.log1p(df['production_tonnes'])\n",
    "df['log_production'] = np.log1p(df['hectares_ha'])\n",
    "print(df.head())"
   ]
  },
  {
   "cell_type": "code",
   "execution_count": null,
   "id": "e7df3921",
   "metadata": {},
   "outputs": [],
   "source": [
    "corr = df.corr(numeric_only=True)\n",
    "sns.heatmap(corr, annot=True)"
   ]
  },
  {
   "cell_type": "code",
   "execution_count": null,
   "id": "e679a52d",
   "metadata": {},
   "outputs": [],
   "source": [
    "from sklearn.model_selection import train_test_split\n",
    "train, test_and_validate = train_test_split(df, \n",
    "                                            test_size=0.2, \n",
    "                                            random_state=42)\n",
    "#                                             stratify=df_wine['quality'])\n",
    "test, validate = train_test_split(test_and_validate, \n",
    "                                  test_size=0.5, \n",
    "                                  random_state=42)\n",
    "#                                   stratify=test_and_validate['quality'])\n",
    "print(train.shape)\n",
    "print(test.shape)\n",
    "print(validate.shape)"
   ]
  },
  {
   "cell_type": "code",
   "execution_count": null,
   "id": "eaaf7874",
   "metadata": {},
   "outputs": [],
   "source": [
    "# bucket='c93435a2086654l4910637t1w0854223549-sandboxbucket-jtqmwpnickrd'\n",
    "bucket='c93435a2086654l4910637t1w0854223549-sandboxbucket-yk2arc2gss8l'\n",
    "prefix='CropDataModelHannah'\n",
    "train_file='crop_train.csv'\n",
    "test_file='crop_test.csv'\n",
    "validate_file='crop_validate.csv'\n",
    "whole_file='crop.csv'\n",
    "s3_resource = boto3.Session().resource('s3')\n",
    "\n",
    "def upload_s3_csv(filename, folder, dataframe):\n",
    "    csv_buffer = io.StringIO()\n",
    "    dataframe.to_csv(csv_buffer, header=False, index=False )\n",
    "    s3_resource.Bucket(bucket).Object(os.path.join(prefix, folder, filename)).put(Body=csv_buffer.getvalue())\n",
    "\n",
    "upload_s3_csv(train_file, 'train', train)\n",
    "upload_s3_csv(test_file, 'test', test)\n",
    "upload_s3_csv(validate_file, 'validate', validate)"
   ]
  },
  {
   "cell_type": "code",
   "execution_count": null,
   "id": "bec59391",
   "metadata": {},
   "outputs": [],
   "source": [
    "from sklearn.linear_model import LinearRegression\n",
    "\n",
    "# Create a LinearRegression object\n",
    "lr = LinearRegression()\n",
    "\n",
    "# Fit the model to the training data\n",
    "lr.fit(train[['log_hectares', 'log_production']], train['log_yield'])\n",
    "\n",
    "# Make predictions on the test data\n",
    "test_predictions = lr.predict(test[['log_hectares', 'log_production']])\n",
    "\n",
    "# Calculate the mean squared error (MSE) on the test data\n",
    "mse = np.mean((test_predictions - test['log_yield'])**2)\n",
    "\n",
    "# Print the MSE\n",
    "print('MSE:', mse)\n",
    "\n",
    "# Calculate the accuracy of the predictions\n",
    "accuracy = np.mean(test_predictions == test['log_yield'])\n",
    "\n",
    "# Print the accuracy\n",
    "print('Accuracy:', accuracy)"
   ]
  },
  {
   "cell_type": "code",
   "execution_count": null,
   "id": "aad9485f",
   "metadata": {},
   "outputs": [],
   "source": [
    "import matplotlib.pyplot as plt\n",
    "import numpy as np\n",
    "\n",
    "# Create the scatter plot\n",
    "plt.scatter(test_predictions, test_predictions - test['yield_tonnes_ha'])\n",
    "\n",
    "# Add a title and axis labels\n",
    "plt.title('Residual Analysis')\n",
    "plt.xlabel('Predicted Yield (tonnes/ha)')\n",
    "plt.ylabel('Residual (tonnes/ha)')\n",
    "\n",
    "# Show the plot\n",
    "plt.show()"
   ]
  },
  {
   "cell_type": "code",
   "execution_count": null,
   "id": "7e223db0",
   "metadata": {},
   "outputs": [],
   "source": [
    "import boto3\n",
    "\n",
    "s3 = boto3.client('s3')"
   ]
  },
  {
   "cell_type": "code",
   "execution_count": null,
   "id": "51cf5646",
   "metadata": {},
   "outputs": [],
   "source": [
    "import botocore\n",
    "\n",
    "s3_client = boto3.client('s3')\n",
    "\n",
    "try:\n",
    "    s3_client.get_bucket_acl(Bucket=bucket)\n",
    "except botocore.exceptions.ClientError as e:\n",
    "    if e.response['Error']['Code'] == 'AccessDenied':\n",
    "        print('The s3 variable does not have permission to access the S3 bucket.')\n",
    "        exit(1)"
   ]
  },
  {
   "cell_type": "code",
   "execution_count": null,
   "id": "e2ed60a0",
   "metadata": {},
   "outputs": [],
   "source": [
    "import pickle\n",
    "\n",
    "# Save the trained model to S3\n",
    "with open('model.pkl', 'wb') as f:\n",
    "    pickle.dump(lr, f)\n",
    "\n",
    "# Upload the trained model to S3\n",
    "s3.upload_file('model.pkl', bucket, os.path.join(prefix, 'model', 'model.pkl'))"
   ]
  },
  {
   "cell_type": "code",
   "execution_count": null,
   "id": "cc9c9143",
   "metadata": {},
   "outputs": [],
   "source": [
    "import numpy as np\n",
    "from sklearn.linear_model import LogisticRegression\n",
    "from sklearn.metrics import roc_curve, auc\n",
    "import matplotlib.pyplot as plt\n",
    "\n",
    "# Make predictions on the test data\n",
    "test_predictions = lr.predict(test[['log_hectares', 'log_production']])\n",
    "\n",
    "# Flatten the test_predictions array\n",
    "test_predictions = test_predictions.ravel()\n",
    "\n",
    "# Calculate the FPR and TPR of the model\n",
    "fpr, tpr, thresholds = roc_curve(test['log_yield'], test_predictions)\n",
    "\n",
    "# Calculate the AUC of the model\n",
    "auc = auc(fpr, tpr)\n",
    "\n",
    "# Plot the ROC curve\n",
    "fig, ax = plt.subplots()\n",
    "ax.plot(fpr, tpr)\n",
    "ax.set_title('ROC Curve')\n",
    "ax.set_xlabel('False Positive Rate')\n",
    "ax.set_ylabel('True Positive Rate')\n",
    "plt.show()\n"
   ]
  },
  {
   "cell_type": "code",
   "execution_count": null,
   "id": "358cd79f",
   "metadata": {},
   "outputs": [],
   "source": []
  },
  {
   "cell_type": "code",
   "execution_count": null,
   "id": "09126122",
   "metadata": {},
   "outputs": [],
   "source": []
  },
  {
   "cell_type": "code",
   "execution_count": null,
   "id": "20c293ed",
   "metadata": {},
   "outputs": [],
   "source": []
  }
 ],
 "metadata": {
  "kernelspec": {
   "display_name": "conda_python3",
   "language": "python",
   "name": "conda_python3"
  },
  "language_info": {
   "codemirror_mode": {
    "name": "ipython",
    "version": 3
   },
   "file_extension": ".py",
   "mimetype": "text/x-python",
   "name": "python",
   "nbconvert_exporter": "python",
   "pygments_lexer": "ipython3",
   "version": "3.10.12"
  }
 },
 "nbformat": 4,
 "nbformat_minor": 5
}
