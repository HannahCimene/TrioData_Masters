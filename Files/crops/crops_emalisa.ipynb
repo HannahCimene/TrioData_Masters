{
 "cells": [
  {
   "cell_type": "code",
   "execution_count": 110,
   "metadata": {},
   "outputs": [],
   "source": [
    "import pandas as pd\n",
    "import numpy as np\n",
    "import matplotlib.pyplot as plt\n",
    "import seaborn as sns\n",
    "\n",
    "# Read \n",
    "file = pd.ExcelFile(\"..\\data\\\\food-twentieth-century-crop-statistics-1900-2017-xlsx.xlsx\")\n",
    "df = file.parse('CropStats')\n",
    "df = df.set_index(df.columns[0])\n",
    "df.index.name = None\n"
   ]
  },
  {
   "cell_type": "markdown",
   "metadata": {},
   "source": [
    "The way I understand it the sheet 'CropStats' contains all data from the other sheets, so I am only using that one.\n"
   ]
  },
  {
   "cell_type": "code",
   "execution_count": 111,
   "metadata": {},
   "outputs": [
    {
     "name": "stdout",
     "output_type": "stream",
     "text": [
      "<class 'pandas.core.frame.DataFrame'>\n",
      "Int64Index: 36707 entries, 0 to 36706\n",
      "Data columns (total 10 columns):\n",
      " #   Column               Non-Null Count  Dtype  \n",
      "---  ------               --------------  -----  \n",
      " 0   Harvest_year         36707 non-null  int64  \n",
      " 1   admin0               36707 non-null  object \n",
      " 2   admin1               33716 non-null  object \n",
      " 3   crop                 36707 non-null  object \n",
      " 4   hectares (ha)        35084 non-null  float64\n",
      " 5   production (tonnes)  34709 non-null  float64\n",
      " 6   year                 36707 non-null  int64  \n",
      " 7   yield(tonnes/ha)     34694 non-null  float64\n",
      " 8   admin2               0 non-null      float64\n",
      " 9   notes                5641 non-null   object \n",
      "dtypes: float64(4), int64(2), object(4)\n",
      "memory usage: 3.1+ MB\n"
     ]
    }
   ],
   "source": [
    "df.info()"
   ]
  },
  {
   "cell_type": "code",
   "execution_count": 112,
   "metadata": {},
   "outputs": [
    {
     "data": {
      "text/html": [
       "<div>\n",
       "<style scoped>\n",
       "    .dataframe tbody tr th:only-of-type {\n",
       "        vertical-align: middle;\n",
       "    }\n",
       "\n",
       "    .dataframe tbody tr th {\n",
       "        vertical-align: top;\n",
       "    }\n",
       "\n",
       "    .dataframe thead th {\n",
       "        text-align: right;\n",
       "    }\n",
       "</style>\n",
       "<table border=\"1\" class=\"dataframe\">\n",
       "  <thead>\n",
       "    <tr style=\"text-align: right;\">\n",
       "      <th></th>\n",
       "      <th>Harvest_year</th>\n",
       "      <th>admin0</th>\n",
       "      <th>admin1</th>\n",
       "      <th>crop</th>\n",
       "      <th>hectares (ha)</th>\n",
       "      <th>production (tonnes)</th>\n",
       "      <th>year</th>\n",
       "      <th>yield(tonnes/ha)</th>\n",
       "      <th>admin2</th>\n",
       "      <th>notes</th>\n",
       "    </tr>\n",
       "  </thead>\n",
       "  <tbody>\n",
       "    <tr>\n",
       "      <th>0</th>\n",
       "      <td>1902</td>\n",
       "      <td>Austria</td>\n",
       "      <td>NaN</td>\n",
       "      <td>wheat</td>\n",
       "      <td>NaN</td>\n",
       "      <td>NaN</td>\n",
       "      <td>1902</td>\n",
       "      <td>1.31</td>\n",
       "      <td>NaN</td>\n",
       "      <td>NaN</td>\n",
       "    </tr>\n",
       "    <tr>\n",
       "      <th>1</th>\n",
       "      <td>1903</td>\n",
       "      <td>Austria</td>\n",
       "      <td>NaN</td>\n",
       "      <td>wheat</td>\n",
       "      <td>NaN</td>\n",
       "      <td>NaN</td>\n",
       "      <td>1903</td>\n",
       "      <td>1.47</td>\n",
       "      <td>NaN</td>\n",
       "      <td>NaN</td>\n",
       "    </tr>\n",
       "    <tr>\n",
       "      <th>2</th>\n",
       "      <td>1904</td>\n",
       "      <td>Austria</td>\n",
       "      <td>NaN</td>\n",
       "      <td>wheat</td>\n",
       "      <td>NaN</td>\n",
       "      <td>NaN</td>\n",
       "      <td>1904</td>\n",
       "      <td>1.27</td>\n",
       "      <td>NaN</td>\n",
       "      <td>NaN</td>\n",
       "    </tr>\n",
       "    <tr>\n",
       "      <th>3</th>\n",
       "      <td>1905</td>\n",
       "      <td>Austria</td>\n",
       "      <td>NaN</td>\n",
       "      <td>wheat</td>\n",
       "      <td>NaN</td>\n",
       "      <td>NaN</td>\n",
       "      <td>1905</td>\n",
       "      <td>1.33</td>\n",
       "      <td>NaN</td>\n",
       "      <td>NaN</td>\n",
       "    </tr>\n",
       "    <tr>\n",
       "      <th>4</th>\n",
       "      <td>1906</td>\n",
       "      <td>Austria</td>\n",
       "      <td>NaN</td>\n",
       "      <td>wheat</td>\n",
       "      <td>NaN</td>\n",
       "      <td>NaN</td>\n",
       "      <td>1906</td>\n",
       "      <td>1.28</td>\n",
       "      <td>NaN</td>\n",
       "      <td>NaN</td>\n",
       "    </tr>\n",
       "  </tbody>\n",
       "</table>\n",
       "</div>"
      ],
      "text/plain": [
       "   Harvest_year   admin0 admin1   crop  hectares (ha)  production (tonnes)  \\\n",
       "0          1902  Austria    NaN  wheat            NaN                  NaN   \n",
       "1          1903  Austria    NaN  wheat            NaN                  NaN   \n",
       "2          1904  Austria    NaN  wheat            NaN                  NaN   \n",
       "3          1905  Austria    NaN  wheat            NaN                  NaN   \n",
       "4          1906  Austria    NaN  wheat            NaN                  NaN   \n",
       "\n",
       "   year  yield(tonnes/ha)  admin2 notes  \n",
       "0  1902              1.31     NaN   NaN  \n",
       "1  1903              1.47     NaN   NaN  \n",
       "2  1904              1.27     NaN   NaN  \n",
       "3  1905              1.33     NaN   NaN  \n",
       "4  1906              1.28     NaN   NaN  "
      ]
     },
     "execution_count": 112,
     "metadata": {},
     "output_type": "execute_result"
    }
   ],
   "source": [
    "df.head()"
   ]
  },
  {
   "cell_type": "code",
   "execution_count": 113,
   "metadata": {},
   "outputs": [
    {
     "name": "stdout",
     "output_type": "stream",
     "text": [
      "<class 'pandas.core.frame.DataFrame'>\n",
      "Int64Index: 36707 entries, 0 to 36706\n",
      "Data columns (total 10 columns):\n",
      " #   Column               Non-Null Count  Dtype  \n",
      "---  ------               --------------  -----  \n",
      " 0   Harvest_year         36707 non-null  int64  \n",
      " 1   admin0               36707 non-null  object \n",
      " 2   admin1               33716 non-null  object \n",
      " 3   crop                 36707 non-null  object \n",
      " 4   hectares (ha)        35084 non-null  float64\n",
      " 5   production (tonnes)  34709 non-null  float64\n",
      " 6   year                 36707 non-null  int64  \n",
      " 7   yield(tonnes/ha)     34694 non-null  float64\n",
      " 8   admin2               0 non-null      float64\n",
      " 9   notes                5641 non-null   object \n",
      "dtypes: float64(4), int64(2), object(4)\n",
      "memory usage: 3.1+ MB\n"
     ]
    }
   ],
   "source": [
    "df.info()"
   ]
  },
  {
   "cell_type": "markdown",
   "metadata": {},
   "source": [
    "based on the amount off null values I am starting by omitting admin2 (0 non-null) and notes (5641), also don't think those would have been meaningful regardless."
   ]
  },
  {
   "cell_type": "code",
   "execution_count": 114,
   "metadata": {},
   "outputs": [],
   "source": [
    "df.drop(['admin2', 'notes', 'Harvest_year'], axis=1, inplace=True)"
   ]
  },
  {
   "cell_type": "markdown",
   "metadata": {},
   "source": [
    "admin0 indicates the national levels (countries).  \n",
    "admin1 indicates the subnational levels (states).  \n",
    "this is confusing for me so i am changing the column names."
   ]
  },
  {
   "cell_type": "code",
   "execution_count": 115,
   "metadata": {},
   "outputs": [],
   "source": [
    "df.rename(columns = {'admin0': 'national', 'admin1': 'subnational'}, inplace=True)"
   ]
  },
  {
   "cell_type": "code",
   "execution_count": 116,
   "metadata": {},
   "outputs": [],
   "source": [
    "df.loc[df['subnational'].isna(), 'subnational'] = df['national']"
   ]
  },
  {
   "cell_type": "markdown",
   "metadata": {},
   "source": [
    "hectares, production and yield have some null values  \n",
    "<del>I have decided to remove all rows with null values in these columns as i think these are the most important columns  \n",
    "this leaves us with 33477 rows (still 91.20% of the original 36707) which i believe to still be plenty  \n",
    "I think simply omitting these is a better idea than replacing them with averages for these two reasons</del>  "
   ]
  },
  {
   "cell_type": "markdown",
   "metadata": {},
   "source": [
    "if yield is nan, but hectares and production are not, we can calculate yield. This occurs 1115 times. Other rows with NaN for yield are dropped. we also cannot calculate the yield when hectares is 0, this would give inf yield."
   ]
  },
  {
   "cell_type": "code",
   "execution_count": 117,
   "metadata": {},
   "outputs": [
    {
     "data": {
      "text/plain": [
       "1115"
      ]
     },
     "execution_count": 117,
     "metadata": {},
     "output_type": "execute_result"
    }
   ],
   "source": [
    "len(df[(pd.isnull(df['yield(tonnes/ha)'])) & (~pd.isnull(df['production (tonnes)'])) & ~pd.isnull(df['hectares (ha)'])])\n"
   ]
  },
  {
   "cell_type": "code",
   "execution_count": 118,
   "metadata": {},
   "outputs": [],
   "source": [
    "mask = df['yield(tonnes/ha)'].isna() & ~df['production (tonnes)'].isna() & ~df['hectares (ha)'].isna() & df['hectares (ha)'] != 0\n",
    "df.loc[mask, 'yield(tonnes/ha)'] = df['production (tonnes)'] / df['hectares (ha)']\n",
    "df.dropna(subset=['yield(tonnes/ha)'], inplace=True)\n"
   ]
  },
  {
   "cell_type": "markdown",
   "metadata": {},
   "source": [
    "if production is nan, but hectares and yield are not, we can calculate production. This occurs 483 times. Other rows where production is NaN are dropped."
   ]
  },
  {
   "cell_type": "code",
   "execution_count": 119,
   "metadata": {},
   "outputs": [
    {
     "data": {
      "text/plain": [
       "483"
      ]
     },
     "execution_count": 119,
     "metadata": {},
     "output_type": "execute_result"
    }
   ],
   "source": [
    "len(df[~pd.isnull(df['hectares (ha)']) & pd.isnull(df['production (tonnes)']) & ~pd.isnull(df['yield(tonnes/ha)'])])\n"
   ]
  },
  {
   "cell_type": "code",
   "execution_count": 120,
   "metadata": {},
   "outputs": [],
   "source": [
    "# The mask is used here because of I did the same way as above it kept timing out\n",
    "mask = df['production (tonnes)'].isna() & ~df['yield(tonnes/ha)'].isna() & ~df['hectares (ha)'].isna()\n",
    "df.loc[mask, 'production (tonnes)'] = df['yield(tonnes/ha)'] * df['hectares (ha)']\n",
    "df.dropna(subset=['production (tonnes)'], inplace=True)\n"
   ]
  },
  {
   "cell_type": "markdown",
   "metadata": {},
   "source": [
    "if hectares is NaN, and production and yield are not, hectares can be calculated, this occurs 106 times. Other rows where hectares is NaN are dropped."
   ]
  },
  {
   "cell_type": "code",
   "execution_count": 121,
   "metadata": {},
   "outputs": [],
   "source": [
    "mask = df['hectares (ha)'].isna() & ~df['yield(tonnes/ha)'].isna() & ~df['production (tonnes)'].isna()\n",
    "df.loc[mask, 'hectares (ha)'] = df['yield(tonnes/ha)'] * df['production (tonnes)']\n",
    "df.dropna(subset=['hectares (ha)'], inplace=True)"
   ]
  },
  {
   "cell_type": "code",
   "execution_count": 122,
   "metadata": {},
   "outputs": [],
   "source": [
    "# The columns we just adapted just changed into objects, let's make them floats again\n",
    "df['hectares (ha)'] = df['hectares (ha)'].astype(float)\n",
    "df['production (tonnes)'] = df['production (tonnes)'].astype(float)\n",
    "df['yield(tonnes/ha)'] = df['yield(tonnes/ha)'].astype(float)"
   ]
  },
  {
   "cell_type": "code",
   "execution_count": 123,
   "metadata": {},
   "outputs": [
    {
     "name": "stdout",
     "output_type": "stream",
     "text": [
      "Empty DataFrame\n",
      "Columns: [national, subnational, crop, hectares (ha), production (tonnes), year, yield(tonnes/ha)]\n",
      "Index: []\n"
     ]
    }
   ],
   "source": [
    "# Assuming df is your DataFrame\n",
    "zero_hectares_rows = df[df['hectares (ha)'] == 0]\n",
    "\n",
    "# Print or display the rows where 'hectares (ha)' is 0\n",
    "print(zero_hectares_rows)"
   ]
  },
  {
   "cell_type": "code",
   "execution_count": 124,
   "metadata": {},
   "outputs": [
    {
     "data": {
      "text/html": [
       "<div>\n",
       "<style scoped>\n",
       "    .dataframe tbody tr th:only-of-type {\n",
       "        vertical-align: middle;\n",
       "    }\n",
       "\n",
       "    .dataframe tbody tr th {\n",
       "        vertical-align: top;\n",
       "    }\n",
       "\n",
       "    .dataframe thead th {\n",
       "        text-align: right;\n",
       "    }\n",
       "</style>\n",
       "<table border=\"1\" class=\"dataframe\">\n",
       "  <thead>\n",
       "    <tr style=\"text-align: right;\">\n",
       "      <th></th>\n",
       "      <th>hectares (ha)</th>\n",
       "      <th>production (tonnes)</th>\n",
       "      <th>year</th>\n",
       "      <th>yield(tonnes/ha)</th>\n",
       "    </tr>\n",
       "  </thead>\n",
       "  <tbody>\n",
       "    <tr>\n",
       "      <th>count</th>\n",
       "      <td>3.415500e+04</td>\n",
       "      <td>3.415500e+04</td>\n",
       "      <td>34155.000000</td>\n",
       "      <td>34155.000000</td>\n",
       "    </tr>\n",
       "    <tr>\n",
       "      <th>mean</th>\n",
       "      <td>6.745161e+05</td>\n",
       "      <td>1.634547e+06</td>\n",
       "      <td>1956.119836</td>\n",
       "      <td>2.679773</td>\n",
       "    </tr>\n",
       "    <tr>\n",
       "      <th>std</th>\n",
       "      <td>1.616353e+06</td>\n",
       "      <td>5.003067e+06</td>\n",
       "      <td>38.730405</td>\n",
       "      <td>2.239175</td>\n",
       "    </tr>\n",
       "    <tr>\n",
       "      <th>min</th>\n",
       "      <td>1.000000e+00</td>\n",
       "      <td>0.000000e+00</td>\n",
       "      <td>1861.000000</td>\n",
       "      <td>0.000000</td>\n",
       "    </tr>\n",
       "    <tr>\n",
       "      <th>25%</th>\n",
       "      <td>3.642120e+04</td>\n",
       "      <td>7.022915e+04</td>\n",
       "      <td>1927.000000</td>\n",
       "      <td>1.137703</td>\n",
       "    </tr>\n",
       "    <tr>\n",
       "      <th>50%</th>\n",
       "      <td>1.800826e+05</td>\n",
       "      <td>3.302174e+05</td>\n",
       "      <td>1959.000000</td>\n",
       "      <td>1.881500</td>\n",
       "    </tr>\n",
       "    <tr>\n",
       "      <th>75%</th>\n",
       "      <td>6.426318e+05</td>\n",
       "      <td>1.243900e+06</td>\n",
       "      <td>1989.000000</td>\n",
       "      <td>3.486162</td>\n",
       "    </tr>\n",
       "    <tr>\n",
       "      <th>max</th>\n",
       "      <td>3.147000e+07</td>\n",
       "      <td>1.342875e+08</td>\n",
       "      <td>2019.000000</td>\n",
       "      <td>17.168477</td>\n",
       "    </tr>\n",
       "  </tbody>\n",
       "</table>\n",
       "</div>"
      ],
      "text/plain": [
       "       hectares (ha)  production (tonnes)          year  yield(tonnes/ha)\n",
       "count   3.415500e+04         3.415500e+04  34155.000000      34155.000000\n",
       "mean    6.745161e+05         1.634547e+06   1956.119836          2.679773\n",
       "std     1.616353e+06         5.003067e+06     38.730405          2.239175\n",
       "min     1.000000e+00         0.000000e+00   1861.000000          0.000000\n",
       "25%     3.642120e+04         7.022915e+04   1927.000000          1.137703\n",
       "50%     1.800826e+05         3.302174e+05   1959.000000          1.881500\n",
       "75%     6.426318e+05         1.243900e+06   1989.000000          3.486162\n",
       "max     3.147000e+07         1.342875e+08   2019.000000         17.168477"
      ]
     },
     "execution_count": 124,
     "metadata": {},
     "output_type": "execute_result"
    }
   ],
   "source": [
    "df.describe()"
   ]
  },
  {
   "cell_type": "markdown",
   "metadata": {},
   "source": [
    "We have a lot of hectares = 0, like a lot, let's see how things change when we drop those"
   ]
  },
  {
   "cell_type": "code",
   "execution_count": 125,
   "metadata": {},
   "outputs": [],
   "source": [
    "df = df[df['hectares (ha)'] != 0]"
   ]
  },
  {
   "cell_type": "code",
   "execution_count": 126,
   "metadata": {},
   "outputs": [],
   "source": [
    "df['log_yield'] = np.log1p(df['yield(tonnes/ha)'])\n"
   ]
  },
  {
   "cell_type": "code",
   "execution_count": 127,
   "metadata": {},
   "outputs": [
    {
     "data": {
      "text/plain": [
       "<Axes: xlabel='crop', ylabel='log_yield'>"
      ]
     },
     "execution_count": 127,
     "metadata": {},
     "output_type": "execute_result"
    },
    {
     "data": {
      "image/png": "[encoded data removed]",
      "text/plain": [
       "<Figure size 640x480 with 1 Axes>"
      ]
     },
     "metadata": {},
     "output_type": "display_data"
    }
   ],
   "source": [
    "sns.boxplot(data=df, x='crop', y='log_yield')"
   ]
  },
  {
   "cell_type": "code",
   "execution_count": 128,
   "metadata": {},
   "outputs": [],
   "source": [
    "df['log_hectares'] = np.log1p(df['hectares (ha)'])\n"
   ]
  },
  {
   "cell_type": "code",
   "execution_count": 129,
   "metadata": {},
   "outputs": [
    {
     "data": {
      "text/plain": [
       "<Axes: xlabel='crop', ylabel='log_hectares'>"
      ]
     },
     "execution_count": 129,
     "metadata": {},
     "output_type": "execute_result"
    },
    {
     "data": {
      "image/png": "[encoded data removed]",
      "text/plain": [
       "<Figure size 640x480 with 1 Axes>"
      ]
     },
     "metadata": {},
     "output_type": "display_data"
    }
   ],
   "source": [
    "sns.boxplot(data=df, x='crop', y='log_hectares')\n"
   ]
  },
  {
   "cell_type": "code",
   "execution_count": null,
   "metadata": {},
   "outputs": [],
   "source": []
  },
  {
   "cell_type": "code",
   "execution_count": 130,
   "metadata": {},
   "outputs": [
    {
     "data": {
      "image/png": "[encoded data removed]",
      "text/plain": [
       "<Figure size 640x480 with 1 Axes>"
      ]
     },
     "metadata": {},
     "output_type": "display_data"
    }
   ],
   "source": [
    "# Assuming df is your DataFrame\n",
    "sns.set(style=\"whitegrid\")  # Set a seaborn style\n",
    "\n",
    "# Plot the histogram\n",
    "sns.histplot(data=df, x='log_hectares', kde=True, color='blue')\n",
    "\n",
    "# Add labels and title\n",
    "plt.xlabel('Hectares (ha)')\n",
    "plt.ylabel('Frequency')\n",
    "plt.title('Hectares Histogram')\n",
    "\n",
    "# Show the plot\n",
    "plt.show()"
   ]
  },
  {
   "cell_type": "code",
   "execution_count": 131,
   "metadata": {},
   "outputs": [],
   "source": [
    "df['log_production'] = np.log1p(df['production (tonnes)'])\n"
   ]
  },
  {
   "cell_type": "code",
   "execution_count": 158,
   "metadata": {},
   "outputs": [
    {
     "data": {
      "text/plain": [
       "<Axes: xlabel='crop', ylabel='log_production'>"
      ]
     },
     "execution_count": 158,
     "metadata": {},
     "output_type": "execute_result"
    },
    {
     "data": {
      "image/png": "[encoded data removed]",
      "text/plain": [
       "<Figure size 640x480 with 1 Axes>"
      ]
     },
     "metadata": {},
     "output_type": "display_data"
    }
   ],
   "source": [
    "sns.boxplot(data=df[df['year'] < 1950], x='crop', y='log_production')\n"
   ]
  },
  {
   "cell_type": "markdown",
   "metadata": {},
   "source": [
    "this last one seems to show outliers for spring wheat, winter wheat, and maybe wheat, these appear in earlier years (before 1950)"
   ]
  },
  {
   "cell_type": "markdown",
   "metadata": {},
   "source": [
    "we log transformed the hectares, yield, and production which gives us values that are easier to work with (this type of transformation is a very common thing to do when dealing with a lot of small values/very skewed data)"
   ]
  },
  {
   "cell_type": "markdown",
   "metadata": {},
   "source": [
    "I think we should work with admin0, admin1, and crop through one hot encoding.  "
   ]
  },
  {
   "cell_type": "code",
   "execution_count": 133,
   "metadata": {},
   "outputs": [
    {
     "data": {
      "text/html": [
       "<div>\n",
       "<style scoped>\n",
       "    .dataframe tbody tr th:only-of-type {\n",
       "        vertical-align: middle;\n",
       "    }\n",
       "\n",
       "    .dataframe tbody tr th {\n",
       "        vertical-align: top;\n",
       "    }\n",
       "\n",
       "    .dataframe thead th {\n",
       "        text-align: right;\n",
       "    }\n",
       "</style>\n",
       "<table border=\"1\" class=\"dataframe\">\n",
       "  <thead>\n",
       "    <tr style=\"text-align: right;\">\n",
       "      <th></th>\n",
       "      <th>national</th>\n",
       "      <th>subnational</th>\n",
       "      <th>crop</th>\n",
       "      <th>hectares (ha)</th>\n",
       "      <th>production (tonnes)</th>\n",
       "      <th>year</th>\n",
       "      <th>yield(tonnes/ha)</th>\n",
       "      <th>log_yield</th>\n",
       "      <th>log_hectares</th>\n",
       "      <th>log_production</th>\n",
       "    </tr>\n",
       "  </thead>\n",
       "  <tbody>\n",
       "    <tr>\n",
       "      <th>59</th>\n",
       "      <td>Austria</td>\n",
       "      <td>Austria</td>\n",
       "      <td>wheat</td>\n",
       "      <td>275822.0</td>\n",
       "      <td>711620.760</td>\n",
       "      <td>1961</td>\n",
       "      <td>2.580000</td>\n",
       "      <td>1.275363</td>\n",
       "      <td>12.527515</td>\n",
       "      <td>13.475302</td>\n",
       "    </tr>\n",
       "    <tr>\n",
       "      <th>60</th>\n",
       "      <td>Austria</td>\n",
       "      <td>Austria</td>\n",
       "      <td>wheat</td>\n",
       "      <td>270351.0</td>\n",
       "      <td>706156.812</td>\n",
       "      <td>1962</td>\n",
       "      <td>2.612000</td>\n",
       "      <td>1.284262</td>\n",
       "      <td>12.507480</td>\n",
       "      <td>13.467594</td>\n",
       "    </tr>\n",
       "    <tr>\n",
       "      <th>61</th>\n",
       "      <td>Austria</td>\n",
       "      <td>Austria</td>\n",
       "      <td>wheat</td>\n",
       "      <td>274722.0</td>\n",
       "      <td>689552.220</td>\n",
       "      <td>1963</td>\n",
       "      <td>2.510000</td>\n",
       "      <td>1.255616</td>\n",
       "      <td>12.523519</td>\n",
       "      <td>13.443799</td>\n",
       "    </tr>\n",
       "    <tr>\n",
       "      <th>62</th>\n",
       "      <td>Austria</td>\n",
       "      <td>Austria</td>\n",
       "      <td>wheat</td>\n",
       "      <td>282967.0</td>\n",
       "      <td>750428.484</td>\n",
       "      <td>1964</td>\n",
       "      <td>2.652000</td>\n",
       "      <td>1.295275</td>\n",
       "      <td>12.553089</td>\n",
       "      <td>13.528401</td>\n",
       "    </tr>\n",
       "    <tr>\n",
       "      <th>63</th>\n",
       "      <td>Austria</td>\n",
       "      <td>Austria</td>\n",
       "      <td>wheat</td>\n",
       "      <td>275654.0</td>\n",
       "      <td>660742.638</td>\n",
       "      <td>1965</td>\n",
       "      <td>2.397000</td>\n",
       "      <td>1.222893</td>\n",
       "      <td>12.526905</td>\n",
       "      <td>13.401121</td>\n",
       "    </tr>\n",
       "    <tr>\n",
       "      <th>...</th>\n",
       "      <td>...</td>\n",
       "      <td>...</td>\n",
       "      <td>...</td>\n",
       "      <td>...</td>\n",
       "      <td>...</td>\n",
       "      <td>...</td>\n",
       "      <td>...</td>\n",
       "      <td>...</td>\n",
       "      <td>...</td>\n",
       "      <td>...</td>\n",
       "    </tr>\n",
       "    <tr>\n",
       "      <th>36702</th>\n",
       "      <td>China</td>\n",
       "      <td>zhejiang</td>\n",
       "      <td>wheat</td>\n",
       "      <td>75520.0</td>\n",
       "      <td>278300.000</td>\n",
       "      <td>2013</td>\n",
       "      <td>3.685117</td>\n",
       "      <td>1.544391</td>\n",
       "      <td>11.232166</td>\n",
       "      <td>12.536459</td>\n",
       "    </tr>\n",
       "    <tr>\n",
       "      <th>36703</th>\n",
       "      <td>China</td>\n",
       "      <td>zhejiang</td>\n",
       "      <td>wheat</td>\n",
       "      <td>82120.0</td>\n",
       "      <td>309500.000</td>\n",
       "      <td>2014</td>\n",
       "      <td>3.768875</td>\n",
       "      <td>1.562110</td>\n",
       "      <td>11.315949</td>\n",
       "      <td>12.642717</td>\n",
       "    </tr>\n",
       "    <tr>\n",
       "      <th>36704</th>\n",
       "      <td>China</td>\n",
       "      <td>zhejiang</td>\n",
       "      <td>wheat</td>\n",
       "      <td>89800.0</td>\n",
       "      <td>351300.000</td>\n",
       "      <td>2015</td>\n",
       "      <td>3.912027</td>\n",
       "      <td>1.591687</td>\n",
       "      <td>11.405351</td>\n",
       "      <td>12.769399</td>\n",
       "    </tr>\n",
       "    <tr>\n",
       "      <th>36705</th>\n",
       "      <td>China</td>\n",
       "      <td>zhejiang</td>\n",
       "      <td>wheat</td>\n",
       "      <td>76590.0</td>\n",
       "      <td>253900.000</td>\n",
       "      <td>2016</td>\n",
       "      <td>3.315054</td>\n",
       "      <td>1.462110</td>\n",
       "      <td>11.246235</td>\n",
       "      <td>12.444700</td>\n",
       "    </tr>\n",
       "    <tr>\n",
       "      <th>36706</th>\n",
       "      <td>China</td>\n",
       "      <td>zhejiang</td>\n",
       "      <td>wheat</td>\n",
       "      <td>103670.0</td>\n",
       "      <td>419200.000</td>\n",
       "      <td>2017</td>\n",
       "      <td>4.043600</td>\n",
       "      <td>1.618120</td>\n",
       "      <td>11.548978</td>\n",
       "      <td>12.946106</td>\n",
       "    </tr>\n",
       "  </tbody>\n",
       "</table>\n",
       "<p>34155 rows × 10 columns</p>\n",
       "</div>"
      ],
      "text/plain": [
       "      national subnational   crop  hectares (ha)  production (tonnes)  year  \\\n",
       "59     Austria     Austria  wheat       275822.0           711620.760  1961   \n",
       "60     Austria     Austria  wheat       270351.0           706156.812  1962   \n",
       "61     Austria     Austria  wheat       274722.0           689552.220  1963   \n",
       "62     Austria     Austria  wheat       282967.0           750428.484  1964   \n",
       "63     Austria     Austria  wheat       275654.0           660742.638  1965   \n",
       "...        ...         ...    ...            ...                  ...   ...   \n",
       "36702    China    zhejiang  wheat        75520.0           278300.000  2013   \n",
       "36703    China    zhejiang  wheat        82120.0           309500.000  2014   \n",
       "36704    China    zhejiang  wheat        89800.0           351300.000  2015   \n",
       "36705    China    zhejiang  wheat        76590.0           253900.000  2016   \n",
       "36706    China    zhejiang  wheat       103670.0           419200.000  2017   \n",
       "\n",
       "       yield(tonnes/ha)  log_yield  log_hectares  log_production  \n",
       "59             2.580000   1.275363     12.527515       13.475302  \n",
       "60             2.612000   1.284262     12.507480       13.467594  \n",
       "61             2.510000   1.255616     12.523519       13.443799  \n",
       "62             2.652000   1.295275     12.553089       13.528401  \n",
       "63             2.397000   1.222893     12.526905       13.401121  \n",
       "...                 ...        ...           ...             ...  \n",
       "36702          3.685117   1.544391     11.232166       12.536459  \n",
       "36703          3.768875   1.562110     11.315949       12.642717  \n",
       "36704          3.912027   1.591687     11.405351       12.769399  \n",
       "36705          3.315054   1.462110     11.246235       12.444700  \n",
       "36706          4.043600   1.618120     11.548978       12.946106  \n",
       "\n",
       "[34155 rows x 10 columns]"
      ]
     },
     "execution_count": 133,
     "metadata": {},
     "output_type": "execute_result"
    }
   ],
   "source": [
    "# crop = pd.get_dummies(df['crop'])\n",
    "# crop\n",
    "\n",
    "# # Merge the one-hot encoded columns back into the original DataFrame\n",
    "# df = pd.concat([df, crop], axis=1)\n",
    "\n",
    "# # Drop the original 'age category' column if needed\n",
    "# df = df.drop(columns=['crop'])\n",
    "\n",
    "df"
   ]
  },
  {
   "cell_type": "code",
   "execution_count": 134,
   "metadata": {},
   "outputs": [
    {
     "data": {
      "text/html": [
       "<div>\n",
       "<style scoped>\n",
       "    .dataframe tbody tr th:only-of-type {\n",
       "        vertical-align: middle;\n",
       "    }\n",
       "\n",
       "    .dataframe tbody tr th {\n",
       "        vertical-align: top;\n",
       "    }\n",
       "\n",
       "    .dataframe thead th {\n",
       "        text-align: right;\n",
       "    }\n",
       "</style>\n",
       "<table border=\"1\" class=\"dataframe\">\n",
       "  <thead>\n",
       "    <tr style=\"text-align: right;\">\n",
       "      <th></th>\n",
       "      <th>national</th>\n",
       "      <th>subnational</th>\n",
       "      <th>crop</th>\n",
       "      <th>hectares (ha)</th>\n",
       "      <th>production (tonnes)</th>\n",
       "      <th>year</th>\n",
       "      <th>yield(tonnes/ha)</th>\n",
       "      <th>log_yield</th>\n",
       "      <th>log_hectares</th>\n",
       "      <th>log_production</th>\n",
       "    </tr>\n",
       "  </thead>\n",
       "  <tbody>\n",
       "    <tr>\n",
       "      <th>59</th>\n",
       "      <td>Austria</td>\n",
       "      <td>Austria</td>\n",
       "      <td>wheat</td>\n",
       "      <td>275822.0</td>\n",
       "      <td>711620.760</td>\n",
       "      <td>1961</td>\n",
       "      <td>2.580000</td>\n",
       "      <td>1.275363</td>\n",
       "      <td>12.527515</td>\n",
       "      <td>13.475302</td>\n",
       "    </tr>\n",
       "    <tr>\n",
       "      <th>60</th>\n",
       "      <td>Austria</td>\n",
       "      <td>Austria</td>\n",
       "      <td>wheat</td>\n",
       "      <td>270351.0</td>\n",
       "      <td>706156.812</td>\n",
       "      <td>1962</td>\n",
       "      <td>2.612000</td>\n",
       "      <td>1.284262</td>\n",
       "      <td>12.507480</td>\n",
       "      <td>13.467594</td>\n",
       "    </tr>\n",
       "    <tr>\n",
       "      <th>61</th>\n",
       "      <td>Austria</td>\n",
       "      <td>Austria</td>\n",
       "      <td>wheat</td>\n",
       "      <td>274722.0</td>\n",
       "      <td>689552.220</td>\n",
       "      <td>1963</td>\n",
       "      <td>2.510000</td>\n",
       "      <td>1.255616</td>\n",
       "      <td>12.523519</td>\n",
       "      <td>13.443799</td>\n",
       "    </tr>\n",
       "    <tr>\n",
       "      <th>62</th>\n",
       "      <td>Austria</td>\n",
       "      <td>Austria</td>\n",
       "      <td>wheat</td>\n",
       "      <td>282967.0</td>\n",
       "      <td>750428.484</td>\n",
       "      <td>1964</td>\n",
       "      <td>2.652000</td>\n",
       "      <td>1.295275</td>\n",
       "      <td>12.553089</td>\n",
       "      <td>13.528401</td>\n",
       "    </tr>\n",
       "    <tr>\n",
       "      <th>63</th>\n",
       "      <td>Austria</td>\n",
       "      <td>Austria</td>\n",
       "      <td>wheat</td>\n",
       "      <td>275654.0</td>\n",
       "      <td>660742.638</td>\n",
       "      <td>1965</td>\n",
       "      <td>2.397000</td>\n",
       "      <td>1.222893</td>\n",
       "      <td>12.526905</td>\n",
       "      <td>13.401121</td>\n",
       "    </tr>\n",
       "    <tr>\n",
       "      <th>...</th>\n",
       "      <td>...</td>\n",
       "      <td>...</td>\n",
       "      <td>...</td>\n",
       "      <td>...</td>\n",
       "      <td>...</td>\n",
       "      <td>...</td>\n",
       "      <td>...</td>\n",
       "      <td>...</td>\n",
       "      <td>...</td>\n",
       "      <td>...</td>\n",
       "    </tr>\n",
       "    <tr>\n",
       "      <th>36702</th>\n",
       "      <td>China</td>\n",
       "      <td>zhejiang</td>\n",
       "      <td>wheat</td>\n",
       "      <td>75520.0</td>\n",
       "      <td>278300.000</td>\n",
       "      <td>2013</td>\n",
       "      <td>3.685117</td>\n",
       "      <td>1.544391</td>\n",
       "      <td>11.232166</td>\n",
       "      <td>12.536459</td>\n",
       "    </tr>\n",
       "    <tr>\n",
       "      <th>36703</th>\n",
       "      <td>China</td>\n",
       "      <td>zhejiang</td>\n",
       "      <td>wheat</td>\n",
       "      <td>82120.0</td>\n",
       "      <td>309500.000</td>\n",
       "      <td>2014</td>\n",
       "      <td>3.768875</td>\n",
       "      <td>1.562110</td>\n",
       "      <td>11.315949</td>\n",
       "      <td>12.642717</td>\n",
       "    </tr>\n",
       "    <tr>\n",
       "      <th>36704</th>\n",
       "      <td>China</td>\n",
       "      <td>zhejiang</td>\n",
       "      <td>wheat</td>\n",
       "      <td>89800.0</td>\n",
       "      <td>351300.000</td>\n",
       "      <td>2015</td>\n",
       "      <td>3.912027</td>\n",
       "      <td>1.591687</td>\n",
       "      <td>11.405351</td>\n",
       "      <td>12.769399</td>\n",
       "    </tr>\n",
       "    <tr>\n",
       "      <th>36705</th>\n",
       "      <td>China</td>\n",
       "      <td>zhejiang</td>\n",
       "      <td>wheat</td>\n",
       "      <td>76590.0</td>\n",
       "      <td>253900.000</td>\n",
       "      <td>2016</td>\n",
       "      <td>3.315054</td>\n",
       "      <td>1.462110</td>\n",
       "      <td>11.246235</td>\n",
       "      <td>12.444700</td>\n",
       "    </tr>\n",
       "    <tr>\n",
       "      <th>36706</th>\n",
       "      <td>China</td>\n",
       "      <td>zhejiang</td>\n",
       "      <td>wheat</td>\n",
       "      <td>103670.0</td>\n",
       "      <td>419200.000</td>\n",
       "      <td>2017</td>\n",
       "      <td>4.043600</td>\n",
       "      <td>1.618120</td>\n",
       "      <td>11.548978</td>\n",
       "      <td>12.946106</td>\n",
       "    </tr>\n",
       "  </tbody>\n",
       "</table>\n",
       "<p>34155 rows × 10 columns</p>\n",
       "</div>"
      ],
      "text/plain": [
       "      national subnational   crop  hectares (ha)  production (tonnes)  year  \\\n",
       "59     Austria     Austria  wheat       275822.0           711620.760  1961   \n",
       "60     Austria     Austria  wheat       270351.0           706156.812  1962   \n",
       "61     Austria     Austria  wheat       274722.0           689552.220  1963   \n",
       "62     Austria     Austria  wheat       282967.0           750428.484  1964   \n",
       "63     Austria     Austria  wheat       275654.0           660742.638  1965   \n",
       "...        ...         ...    ...            ...                  ...   ...   \n",
       "36702    China    zhejiang  wheat        75520.0           278300.000  2013   \n",
       "36703    China    zhejiang  wheat        82120.0           309500.000  2014   \n",
       "36704    China    zhejiang  wheat        89800.0           351300.000  2015   \n",
       "36705    China    zhejiang  wheat        76590.0           253900.000  2016   \n",
       "36706    China    zhejiang  wheat       103670.0           419200.000  2017   \n",
       "\n",
       "       yield(tonnes/ha)  log_yield  log_hectares  log_production  \n",
       "59             2.580000   1.275363     12.527515       13.475302  \n",
       "60             2.612000   1.284262     12.507480       13.467594  \n",
       "61             2.510000   1.255616     12.523519       13.443799  \n",
       "62             2.652000   1.295275     12.553089       13.528401  \n",
       "63             2.397000   1.222893     12.526905       13.401121  \n",
       "...                 ...        ...           ...             ...  \n",
       "36702          3.685117   1.544391     11.232166       12.536459  \n",
       "36703          3.768875   1.562110     11.315949       12.642717  \n",
       "36704          3.912027   1.591687     11.405351       12.769399  \n",
       "36705          3.315054   1.462110     11.246235       12.444700  \n",
       "36706          4.043600   1.618120     11.548978       12.946106  \n",
       "\n",
       "[34155 rows x 10 columns]"
      ]
     },
     "execution_count": 134,
     "metadata": {},
     "output_type": "execute_result"
    }
   ],
   "source": [
    "# crop = pd.get_dummies(df['subnational'])\n",
    "# crop\n",
    "\n",
    "# # Merge the one-hot encoded columns back into the original DataFrame\n",
    "# df = pd.concat([df, subnational], axis=1)\n",
    "\n",
    "# # Drop the original 'age category' column if needed\n",
    "# df = df.drop(columns=['subnational', 'national'])\n",
    "\n",
    "df"
   ]
  },
  {
   "cell_type": "markdown",
   "metadata": {},
   "source": [
    "okay, now i don't know what to do with them, look into count plots"
   ]
  },
  {
   "cell_type": "code",
   "execution_count": 135,
   "metadata": {},
   "outputs": [
    {
     "data": {
      "text/plain": [
       "<Axes: >"
      ]
     },
     "execution_count": 135,
     "metadata": {},
     "output_type": "execute_result"
    },
    {
     "data": {
      "image/png": "[encoded data removed]",
      "text/plain": [
       "<Figure size 640x480 with 2 Axes>"
      ]
     },
     "metadata": {},
     "output_type": "display_data"
    }
   ],
   "source": [
    "corr = df.corr(numeric_only=True)\n",
    "sns.heatmap(corr, annot=True)"
   ]
  },
  {
   "cell_type": "code",
   "execution_count": 136,
   "metadata": {},
   "outputs": [
    {
     "data": {
      "text/plain": [
       "production (tonnes)    1.000000\n",
       "hectares (ha)          0.752794\n",
       "log_production         0.453352\n",
       "log_hectares           0.405028\n",
       "yield(tonnes/ha)       0.236592\n",
       "log_yield              0.225808\n",
       "year                   0.200686\n",
       "Name: production (tonnes), dtype: float64"
      ]
     },
     "execution_count": 136,
     "metadata": {},
     "output_type": "execute_result"
    }
   ],
   "source": [
    "corr['production (tonnes)'].sort_values(ascending=False)"
   ]
  },
  {
   "cell_type": "code",
   "execution_count": 148,
   "metadata": {},
   "outputs": [
    {
     "name": "stderr",
     "output_type": "stream",
     "text": [
      "C:\\Users\\Emalisa\\AppData\\Local\\Temp\\ipykernel_28104\\1211715453.py:2: SettingWithCopyWarning: \n",
      "A value is trying to be set on a copy of a slice from a DataFrame\n",
      "\n",
      "See the caveats in the documentation: https://pandas.pydata.org/pandas-docs/stable/user_guide/indexing.html#returning-a-view-versus-a-copy\n",
      "  wheat_df.drop(['crop'], axis=1, inplace=True)\n"
     ]
    },
    {
     "data": {
      "text/html": [
       "<div>\n",
       "<style scoped>\n",
       "    .dataframe tbody tr th:only-of-type {\n",
       "        vertical-align: middle;\n",
       "    }\n",
       "\n",
       "    .dataframe tbody tr th {\n",
       "        vertical-align: top;\n",
       "    }\n",
       "\n",
       "    .dataframe thead th {\n",
       "        text-align: right;\n",
       "    }\n",
       "</style>\n",
       "<table border=\"1\" class=\"dataframe\">\n",
       "  <thead>\n",
       "    <tr style=\"text-align: right;\">\n",
       "      <th></th>\n",
       "      <th>national</th>\n",
       "      <th>subnational</th>\n",
       "      <th>hectares (ha)</th>\n",
       "      <th>production (tonnes)</th>\n",
       "      <th>year</th>\n",
       "      <th>yield(tonnes/ha)</th>\n",
       "      <th>log_yield</th>\n",
       "      <th>log_hectares</th>\n",
       "      <th>log_production</th>\n",
       "    </tr>\n",
       "  </thead>\n",
       "  <tbody>\n",
       "    <tr>\n",
       "      <th>105</th>\n",
       "      <td>Austria</td>\n",
       "      <td>Austria</td>\n",
       "      <td>292976.0</td>\n",
       "      <td>1.443246e+06</td>\n",
       "      <td>2007</td>\n",
       "      <td>4.926156</td>\n",
       "      <td>1.779376</td>\n",
       "      <td>12.587849</td>\n",
       "      <td>14.182406</td>\n",
       "    </tr>\n",
       "    <tr>\n",
       "      <th>106</th>\n",
       "      <td>Austria</td>\n",
       "      <td>Austria</td>\n",
       "      <td>296775.0</td>\n",
       "      <td>1.729848e+06</td>\n",
       "      <td>2008</td>\n",
       "      <td>5.828819</td>\n",
       "      <td>1.921152</td>\n",
       "      <td>12.600733</td>\n",
       "      <td>14.363545</td>\n",
       "    </tr>\n",
       "    <tr>\n",
       "      <th>107</th>\n",
       "      <td>Austria</td>\n",
       "      <td>Austria</td>\n",
       "      <td>309034.0</td>\n",
       "      <td>1.568937e+06</td>\n",
       "      <td>2009</td>\n",
       "      <td>5.076907</td>\n",
       "      <td>1.804496</td>\n",
       "      <td>12.641210</td>\n",
       "      <td>14.265909</td>\n",
       "    </tr>\n",
       "    <tr>\n",
       "      <th>108</th>\n",
       "      <td>Austria</td>\n",
       "      <td>Austria</td>\n",
       "      <td>302852.0</td>\n",
       "      <td>1.554974e+06</td>\n",
       "      <td>2010</td>\n",
       "      <td>5.134436</td>\n",
       "      <td>1.813918</td>\n",
       "      <td>12.621003</td>\n",
       "      <td>14.256970</td>\n",
       "    </tr>\n",
       "    <tr>\n",
       "      <th>109</th>\n",
       "      <td>Austria</td>\n",
       "      <td>Austria</td>\n",
       "      <td>304334.0</td>\n",
       "      <td>1.830135e+06</td>\n",
       "      <td>2011</td>\n",
       "      <td>6.013574</td>\n",
       "      <td>1.947847</td>\n",
       "      <td>12.625884</td>\n",
       "      <td>14.419901</td>\n",
       "    </tr>\n",
       "    <tr>\n",
       "      <th>...</th>\n",
       "      <td>...</td>\n",
       "      <td>...</td>\n",
       "      <td>...</td>\n",
       "      <td>...</td>\n",
       "      <td>...</td>\n",
       "      <td>...</td>\n",
       "      <td>...</td>\n",
       "      <td>...</td>\n",
       "      <td>...</td>\n",
       "    </tr>\n",
       "    <tr>\n",
       "      <th>36702</th>\n",
       "      <td>China</td>\n",
       "      <td>zhejiang</td>\n",
       "      <td>75520.0</td>\n",
       "      <td>2.783000e+05</td>\n",
       "      <td>2013</td>\n",
       "      <td>3.685117</td>\n",
       "      <td>1.544391</td>\n",
       "      <td>11.232166</td>\n",
       "      <td>12.536459</td>\n",
       "    </tr>\n",
       "    <tr>\n",
       "      <th>36703</th>\n",
       "      <td>China</td>\n",
       "      <td>zhejiang</td>\n",
       "      <td>82120.0</td>\n",
       "      <td>3.095000e+05</td>\n",
       "      <td>2014</td>\n",
       "      <td>3.768875</td>\n",
       "      <td>1.562110</td>\n",
       "      <td>11.315949</td>\n",
       "      <td>12.642717</td>\n",
       "    </tr>\n",
       "    <tr>\n",
       "      <th>36704</th>\n",
       "      <td>China</td>\n",
       "      <td>zhejiang</td>\n",
       "      <td>89800.0</td>\n",
       "      <td>3.513000e+05</td>\n",
       "      <td>2015</td>\n",
       "      <td>3.912027</td>\n",
       "      <td>1.591687</td>\n",
       "      <td>11.405351</td>\n",
       "      <td>12.769399</td>\n",
       "    </tr>\n",
       "    <tr>\n",
       "      <th>36705</th>\n",
       "      <td>China</td>\n",
       "      <td>zhejiang</td>\n",
       "      <td>76590.0</td>\n",
       "      <td>2.539000e+05</td>\n",
       "      <td>2016</td>\n",
       "      <td>3.315054</td>\n",
       "      <td>1.462110</td>\n",
       "      <td>11.246235</td>\n",
       "      <td>12.444700</td>\n",
       "    </tr>\n",
       "    <tr>\n",
       "      <th>36706</th>\n",
       "      <td>China</td>\n",
       "      <td>zhejiang</td>\n",
       "      <td>103670.0</td>\n",
       "      <td>4.192000e+05</td>\n",
       "      <td>2017</td>\n",
       "      <td>4.043600</td>\n",
       "      <td>1.618120</td>\n",
       "      <td>11.548978</td>\n",
       "      <td>12.946106</td>\n",
       "    </tr>\n",
       "  </tbody>\n",
       "</table>\n",
       "<p>1466 rows × 9 columns</p>\n",
       "</div>"
      ],
      "text/plain": [
       "      national subnational  hectares (ha)  production (tonnes)  year  \\\n",
       "105    Austria     Austria       292976.0         1.443246e+06  2007   \n",
       "106    Austria     Austria       296775.0         1.729848e+06  2008   \n",
       "107    Austria     Austria       309034.0         1.568937e+06  2009   \n",
       "108    Austria     Austria       302852.0         1.554974e+06  2010   \n",
       "109    Austria     Austria       304334.0         1.830135e+06  2011   \n",
       "...        ...         ...            ...                  ...   ...   \n",
       "36702    China    zhejiang        75520.0         2.783000e+05  2013   \n",
       "36703    China    zhejiang        82120.0         3.095000e+05  2014   \n",
       "36704    China    zhejiang        89800.0         3.513000e+05  2015   \n",
       "36705    China    zhejiang        76590.0         2.539000e+05  2016   \n",
       "36706    China    zhejiang       103670.0         4.192000e+05  2017   \n",
       "\n",
       "       yield(tonnes/ha)  log_yield  log_hectares  log_production  \n",
       "105            4.926156   1.779376     12.587849       14.182406  \n",
       "106            5.828819   1.921152     12.600733       14.363545  \n",
       "107            5.076907   1.804496     12.641210       14.265909  \n",
       "108            5.134436   1.813918     12.621003       14.256970  \n",
       "109            6.013574   1.947847     12.625884       14.419901  \n",
       "...                 ...        ...           ...             ...  \n",
       "36702          3.685117   1.544391     11.232166       12.536459  \n",
       "36703          3.768875   1.562110     11.315949       12.642717  \n",
       "36704          3.912027   1.591687     11.405351       12.769399  \n",
       "36705          3.315054   1.462110     11.246235       12.444700  \n",
       "36706          4.043600   1.618120     11.548978       12.946106  \n",
       "\n",
       "[1466 rows x 9 columns]"
      ]
     },
     "execution_count": 148,
     "metadata": {},
     "output_type": "execute_result"
    }
   ],
   "source": [
    "wheat_df = df[(df['crop'] == 'wheat')]\n",
    "wheat_df.drop(['crop'], axis=1, inplace=True)\n",
    "# sns.scatterplot(data=df, x='year', y='yield(tonnes/ha)', hue='subnational')\n",
    "wheat_df = wheat_df[(wheat_df['year']) > 2006]\n",
    "\n",
    "wheat_df\n",
    "# sns.histplot(data=wheat_df, x='yield(tonnes/ha)')"
   ]
  },
  {
   "cell_type": "code",
   "execution_count": 150,
   "metadata": {},
   "outputs": [
    {
     "data": {
      "text/plain": [
       "<Axes: xlabel='year', ylabel='yield(tonnes/ha)'>"
      ]
     },
     "execution_count": 150,
     "metadata": {},
     "output_type": "execute_result"
    },
    {
     "data": {
      "image/png": "[encoded data removed]",
      "text/plain": [
       "<Figure size 640x480 with 1 Axes>"
      ]
     },
     "metadata": {},
     "output_type": "display_data"
    }
   ],
   "source": [
    "filtered_df = df[(df['crop'] == 'wheat') & (df['national'] == 'Belgium')]\n",
    "sns.scatterplot(data=filtered_df, x='year', y='yield(tonnes/ha)')\n"
   ]
  },
  {
   "cell_type": "markdown",
   "metadata": {},
   "source": [
    "this seems to indicate a relation between production and hectares, production and yield, yield and year (but not production and year)  \n",
    "production and hectares seem linked (which makes sense), but yield and hectares seem very much not related (which is interesting), neither are yield and production. So it seems that more hectares give more crops, but it has no influence on crops per hectare (which makes a lot of sense actually, nvm)."
   ]
  },
  {
   "cell_type": "markdown",
   "metadata": {},
   "source": [
    "remove harvest_year (it is the same as year)"
   ]
  },
  {
   "cell_type": "code",
   "execution_count": 41,
   "metadata": {},
   "outputs": [
    {
     "name": "stderr",
     "output_type": "stream",
     "text": [
      "No artists with labels found to put in legend.  Note that artists whose label start with an underscore are ignored when legend() is called with no argument.\n"
     ]
    },
    {
     "data": {
      "image/png": "[encoded data removed]",
      "text/plain": [
       "<Figure size 640x480 with 1 Axes>"
      ]
     },
     "metadata": {},
     "output_type": "display_data"
    }
   ],
   "source": [
    "sns.barplot(y=df['yield(tonnes/ha)'], x=df['national'])\n",
    "plt.legend()\n",
    "plt.show()"
   ]
  },
  {
   "cell_type": "markdown",
   "metadata": {},
   "source": [
    "It would maybe be interesting to see, while training the models, if there is higher accuracy between using all countries vs the 10 or 5 best countries.  \n",
    "Let's look at what these best countries are."
   ]
  },
  {
   "cell_type": "code",
   "execution_count": 159,
   "metadata": {},
   "outputs": [],
   "source": [
    "df_wheat = df[df['crop'] == 'wheat']\n",
    "df_winterwheat = df[df['crop'] == 'winter wheat']\n",
    "df_springwheat = df[df['crop'] == 'spring wheat']\n",
    "df_maize = df[df['crop'] == 'maize']\n",
    "df_cereals = df[df['crop'] == 'cereals']\n"
   ]
  },
  {
   "cell_type": "code",
   "execution_count": 190,
   "metadata": {},
   "outputs": [
    {
     "data": {
      "text/plain": [
       "array(['Austria', 'Belgium', 'Croatia', 'Czech Republic', 'Finland',\n",
       "       'Canada', 'Rio Grande do Sul', 'Santa Catarina', 'Paraná',\n",
       "       'New South Wales(b)', 'Victoria', 'Queensland', 'South Australia',\n",
       "       'Western Australia', 'Tasmania', 'Northern Territory',\n",
       "       'Australian Capital Territory', 'India', 'andalucia', 'aragon',\n",
       "       'asturias', 'baleares', 'basque country', 'canary islands',\n",
       "       'cantabria', 'castilla la mancha', 'castilla y leon', 'catalunya',\n",
       "       'extremadura', 'galicia', 'la rioja', 'madrid', 'murcia',\n",
       "       'navarra', 'valencia', 'Spain', 'Île-de-France',\n",
       "       'Champagne-Ardenne', 'Picardy', 'Upper Normandy',\n",
       "       'Centre-Val de Loire', 'Lower Normandy', 'Burgundy',\n",
       "       'Nord-Pas-de-Calais', 'Lorraine', 'Franche-Comté',\n",
       "       'Pays de la Loire', 'Brittany', 'Poitou-Charentes', 'Aquitaine',\n",
       "       'Midi-Pyrénées', 'Limousin', 'Rhône-Alpes', 'Auvergne',\n",
       "       'Languedoc-Roussillon', 'Provence-Alpes-Côte dAzur',\n",
       "       'Val-de-Marne', 'Loire', 'Chile', 'Mexico', 'South Africa',\n",
       "       'United Kingdom', 'ALABAMA', 'ARIZONA', 'ARKANSAS', 'CALIFORNIA',\n",
       "       'COLORADO', 'DELAWARE', 'FLORIDA', 'GEORGIA', 'IDAHO', 'ILLINOIS',\n",
       "       'INDIANA', 'IOWA', 'KANSAS', 'KENTUCKY', 'LOUISIANA', 'MARYLAND',\n",
       "       'MICHIGAN', 'MINNESOTA', 'MISSISSIPPI', 'MISSOURI', 'MONTANA',\n",
       "       'NEBRASKA', 'NEVADA', 'NEW JERSEY', 'NEW MEXICO', 'NEW YORK',\n",
       "       'NORTH CAROLINA', 'NORTH DAKOTA', 'OHIO', 'OKLAHOMA', 'OREGON',\n",
       "       'PENNSYLVANIA', 'SOUTH CAROLINA', 'SOUTH DAKOTA', 'TENNESSEE',\n",
       "       'TEXAS', 'UTAH', 'VIRGINIA', 'WASHINGTON', 'WEST VIRGINIA',\n",
       "       'WISCONSIN', 'WYOMING', 'MAINE', 'VERMONT', 'NEW HAMPSHIRE',\n",
       "       'CONNECTICUT', 'Portugal', 'Uruguay', 'Argentina', 'Lombardia',\n",
       "       'Veneto', 'Emilia-Romagna', 'Toscana', 'Lazio', 'Campania',\n",
       "       'Sicily', 'anhui', 'fujian', 'gansu', 'group1', 'group2',\n",
       "       'guangdong', 'guangxi', 'guizhou', 'henan', 'hubei', 'hunan',\n",
       "       'jiangsu', 'jiangxi', 'qinghai', 'shaanxi', 'shandong', 'shanhai',\n",
       "       'shanxi', 'taiwan', 'xinjiang', 'yunnan', 'zhejiang'], dtype=object)"
      ]
     },
     "execution_count": 190,
     "metadata": {},
     "output_type": "execute_result"
    }
   ],
   "source": [
    "\n",
    "top_five_wheat = df_wheat.groupby('subnational').agg({'yield(tonnes/ha)': 'mean'}).nlargest(5, 'yield(tonnes/ha)')\n",
    "top_five_springwheat = df_springwheat.groupby('subnational').agg({'yield(tonnes/ha)': 'mean'}).nlargest(5, 'yield(tonnes/ha)')\n",
    "top_five_winterwheat = df_winterwheat.groupby('subnational').agg({'yield(tonnes/ha)': 'mean'}).nlargest(5, 'yield(tonnes/ha)')\n",
    "top_five_cereals = df_cereals.groupby('subnational').agg({'yield(tonnes/ha)': 'mean'}).nlargest(5, 'yield(tonnes/ha)')\n",
    "top_five_maize = df_maize.groupby('subnational').agg({'yield(tonnes/ha)': 'mean'}).nlargest(5, 'yield(tonnes/ha)')\n",
    "\n",
    "top_five_wheat\n",
    "df_wheat.subnational.unique()"
   ]
  },
  {
   "cell_type": "code",
   "execution_count": 178,
   "metadata": {},
   "outputs": [
    {
     "data": {
      "text/html": [
       "<div>\n",
       "<style scoped>\n",
       "    .dataframe tbody tr th:only-of-type {\n",
       "        vertical-align: middle;\n",
       "    }\n",
       "\n",
       "    .dataframe tbody tr th {\n",
       "        vertical-align: top;\n",
       "    }\n",
       "\n",
       "    .dataframe thead th {\n",
       "        text-align: right;\n",
       "    }\n",
       "</style>\n",
       "<table border=\"1\" class=\"dataframe\">\n",
       "  <thead>\n",
       "    <tr style=\"text-align: right;\">\n",
       "      <th></th>\n",
       "      <th>yield(tonnes/ha)</th>\n",
       "    </tr>\n",
       "    <tr>\n",
       "      <th>subnational</th>\n",
       "      <th></th>\n",
       "    </tr>\n",
       "  </thead>\n",
       "  <tbody>\n",
       "    <tr>\n",
       "      <th>ARIZONA</th>\n",
       "      <td>6.240311</td>\n",
       "    </tr>\n",
       "    <tr>\n",
       "      <th>CALIFORNIA</th>\n",
       "      <td>5.513554</td>\n",
       "    </tr>\n",
       "    <tr>\n",
       "      <th>IDAHO</th>\n",
       "      <td>4.995824</td>\n",
       "    </tr>\n",
       "    <tr>\n",
       "      <th>NEW MEXICO</th>\n",
       "      <td>4.842106</td>\n",
       "    </tr>\n",
       "    <tr>\n",
       "      <th>OTHER STATES</th>\n",
       "      <td>4.156141</td>\n",
       "    </tr>\n",
       "  </tbody>\n",
       "</table>\n",
       "</div>"
      ],
      "text/plain": [
       "              yield(tonnes/ha)\n",
       "subnational                   \n",
       "ARIZONA               6.240311\n",
       "CALIFORNIA            5.513554\n",
       "IDAHO                 4.995824\n",
       "NEW MEXICO            4.842106\n",
       "OTHER STATES          4.156141"
      ]
     },
     "execution_count": 178,
     "metadata": {},
     "output_type": "execute_result"
    }
   ],
   "source": [
    "top_five_springwheat"
   ]
  },
  {
   "cell_type": "code",
   "execution_count": 181,
   "metadata": {},
   "outputs": [
    {
     "data": {
      "text/html": [
       "<div>\n",
       "<style scoped>\n",
       "    .dataframe tbody tr th:only-of-type {\n",
       "        vertical-align: middle;\n",
       "    }\n",
       "\n",
       "    .dataframe tbody tr th {\n",
       "        vertical-align: top;\n",
       "    }\n",
       "\n",
       "    .dataframe thead th {\n",
       "        text-align: right;\n",
       "    }\n",
       "</style>\n",
       "<table border=\"1\" class=\"dataframe\">\n",
       "  <thead>\n",
       "    <tr style=\"text-align: right;\">\n",
       "      <th></th>\n",
       "      <th>yield(tonnes/ha)</th>\n",
       "    </tr>\n",
       "    <tr>\n",
       "      <th>subnational</th>\n",
       "      <th></th>\n",
       "    </tr>\n",
       "  </thead>\n",
       "  <tbody>\n",
       "    <tr>\n",
       "      <th>Netherlands</th>\n",
       "      <td>4.669394</td>\n",
       "    </tr>\n",
       "    <tr>\n",
       "      <th>NEVADA</th>\n",
       "      <td>3.748536</td>\n",
       "    </tr>\n",
       "    <tr>\n",
       "      <th>Sweden</th>\n",
       "      <td>3.592176</td>\n",
       "    </tr>\n",
       "    <tr>\n",
       "      <th>ARIZONA</th>\n",
       "      <td>3.549411</td>\n",
       "    </tr>\n",
       "    <tr>\n",
       "      <th>OTHER STATES</th>\n",
       "      <td>3.503802</td>\n",
       "    </tr>\n",
       "  </tbody>\n",
       "</table>\n",
       "</div>"
      ],
      "text/plain": [
       "              yield(tonnes/ha)\n",
       "subnational                   \n",
       "Netherlands           4.669394\n",
       "NEVADA                3.748536\n",
       "Sweden                3.592176\n",
       "ARIZONA               3.549411\n",
       "OTHER STATES          3.503802"
      ]
     },
     "execution_count": 181,
     "metadata": {},
     "output_type": "execute_result"
    }
   ],
   "source": [
    "top_five_winterwheat"
   ]
  },
  {
   "cell_type": "code",
   "execution_count": 182,
   "metadata": {},
   "outputs": [
    {
     "data": {
      "text/html": [
       "<div>\n",
       "<style scoped>\n",
       "    .dataframe tbody tr th:only-of-type {\n",
       "        vertical-align: middle;\n",
       "    }\n",
       "\n",
       "    .dataframe tbody tr th {\n",
       "        vertical-align: top;\n",
       "    }\n",
       "\n",
       "    .dataframe thead th {\n",
       "        text-align: right;\n",
       "    }\n",
       "</style>\n",
       "<table border=\"1\" class=\"dataframe\">\n",
       "  <thead>\n",
       "    <tr style=\"text-align: right;\">\n",
       "      <th></th>\n",
       "      <th>yield(tonnes/ha)</th>\n",
       "    </tr>\n",
       "    <tr>\n",
       "      <th>subnational</th>\n",
       "      <th></th>\n",
       "    </tr>\n",
       "  </thead>\n",
       "  <tbody>\n",
       "    <tr>\n",
       "      <th>OTHER STATES</th>\n",
       "      <td>9.622481</td>\n",
       "    </tr>\n",
       "    <tr>\n",
       "      <th>Nord-Pas-de-Calais</th>\n",
       "      <td>6.901474</td>\n",
       "    </tr>\n",
       "    <tr>\n",
       "      <th>Lower Normandy</th>\n",
       "      <td>6.307944</td>\n",
       "    </tr>\n",
       "    <tr>\n",
       "      <th>Upper Normandy</th>\n",
       "      <td>5.838349</td>\n",
       "    </tr>\n",
       "    <tr>\n",
       "      <th>Île-de-France</th>\n",
       "      <td>5.728802</td>\n",
       "    </tr>\n",
       "  </tbody>\n",
       "</table>\n",
       "</div>"
      ],
      "text/plain": [
       "                    yield(tonnes/ha)\n",
       "subnational                         \n",
       "OTHER STATES                9.622481\n",
       "Nord-Pas-de-Calais          6.901474\n",
       "Lower Normandy              6.307944\n",
       "Upper Normandy              5.838349\n",
       "Île-de-France               5.728802"
      ]
     },
     "execution_count": 182,
     "metadata": {},
     "output_type": "execute_result"
    }
   ],
   "source": [
    "top_five_maize\n",
    "# df_maize.national.unique()"
   ]
  },
  {
   "cell_type": "code",
   "execution_count": 183,
   "metadata": {},
   "outputs": [
    {
     "data": {
      "text/html": [
       "<div>\n",
       "<style scoped>\n",
       "    .dataframe tbody tr th:only-of-type {\n",
       "        vertical-align: middle;\n",
       "    }\n",
       "\n",
       "    .dataframe tbody tr th {\n",
       "        vertical-align: top;\n",
       "    }\n",
       "\n",
       "    .dataframe thead th {\n",
       "        text-align: right;\n",
       "    }\n",
       "</style>\n",
       "<table border=\"1\" class=\"dataframe\">\n",
       "  <thead>\n",
       "    <tr style=\"text-align: right;\">\n",
       "      <th></th>\n",
       "      <th>yield(tonnes/ha)</th>\n",
       "    </tr>\n",
       "    <tr>\n",
       "      <th>subnational</th>\n",
       "      <th></th>\n",
       "    </tr>\n",
       "  </thead>\n",
       "  <tbody>\n",
       "    <tr>\n",
       "      <th>Morocco</th>\n",
       "      <td>0.961218</td>\n",
       "    </tr>\n",
       "  </tbody>\n",
       "</table>\n",
       "</div>"
      ],
      "text/plain": [
       "             yield(tonnes/ha)\n",
       "subnational                  \n",
       "Morocco              0.961218"
      ]
     },
     "execution_count": 183,
     "metadata": {},
     "output_type": "execute_result"
    }
   ],
   "source": [
    "top_five_cereals"
   ]
  },
  {
   "cell_type": "code",
   "execution_count": 184,
   "metadata": {},
   "outputs": [
    {
     "data": {
      "text/html": [
       "<div>\n",
       "<style scoped>\n",
       "    .dataframe tbody tr th:only-of-type {\n",
       "        vertical-align: middle;\n",
       "    }\n",
       "\n",
       "    .dataframe tbody tr th {\n",
       "        vertical-align: top;\n",
       "    }\n",
       "\n",
       "    .dataframe thead th {\n",
       "        text-align: right;\n",
       "    }\n",
       "</style>\n",
       "<table border=\"1\" class=\"dataframe\">\n",
       "  <thead>\n",
       "    <tr style=\"text-align: right;\">\n",
       "      <th></th>\n",
       "      <th>national</th>\n",
       "      <th>subnational</th>\n",
       "      <th>crop</th>\n",
       "      <th>hectares (ha)</th>\n",
       "      <th>production (tonnes)</th>\n",
       "      <th>year</th>\n",
       "      <th>yield(tonnes/ha)</th>\n",
       "      <th>log_yield</th>\n",
       "      <th>log_hectares</th>\n",
       "      <th>log_production</th>\n",
       "    </tr>\n",
       "  </thead>\n",
       "  <tbody>\n",
       "    <tr>\n",
       "      <th>29532</th>\n",
       "      <td>Morocco</td>\n",
       "      <td>Morocco</td>\n",
       "      <td>cereals</td>\n",
       "      <td>3596.0</td>\n",
       "      <td>2046.6</td>\n",
       "      <td>1938</td>\n",
       "      <td>0.5700</td>\n",
       "      <td>0.451076</td>\n",
       "      <td>8.187855</td>\n",
       "      <td>7.624424</td>\n",
       "    </tr>\n",
       "    <tr>\n",
       "      <th>29533</th>\n",
       "      <td>Morocco</td>\n",
       "      <td>Morocco</td>\n",
       "      <td>cereals</td>\n",
       "      <td>4141.0</td>\n",
       "      <td>3841.9</td>\n",
       "      <td>1939</td>\n",
       "      <td>0.9300</td>\n",
       "      <td>0.657520</td>\n",
       "      <td>8.328934</td>\n",
       "      <td>8.253983</td>\n",
       "    </tr>\n",
       "    <tr>\n",
       "      <th>29534</th>\n",
       "      <td>Morocco</td>\n",
       "      <td>Morocco</td>\n",
       "      <td>cereals</td>\n",
       "      <td>4466.0</td>\n",
       "      <td>2998.8</td>\n",
       "      <td>1940</td>\n",
       "      <td>0.6700</td>\n",
       "      <td>0.512824</td>\n",
       "      <td>8.404472</td>\n",
       "      <td>8.006301</td>\n",
       "    </tr>\n",
       "    <tr>\n",
       "      <th>29535</th>\n",
       "      <td>Morocco</td>\n",
       "      <td>Morocco</td>\n",
       "      <td>cereals</td>\n",
       "      <td>4466.0</td>\n",
       "      <td>3950.9</td>\n",
       "      <td>1941</td>\n",
       "      <td>0.8800</td>\n",
       "      <td>0.631272</td>\n",
       "      <td>8.404472</td>\n",
       "      <td>8.281952</td>\n",
       "    </tr>\n",
       "    <tr>\n",
       "      <th>29536</th>\n",
       "      <td>Morocco</td>\n",
       "      <td>Morocco</td>\n",
       "      <td>cereals</td>\n",
       "      <td>4331.0</td>\n",
       "      <td>3432.5</td>\n",
       "      <td>1942</td>\n",
       "      <td>0.7900</td>\n",
       "      <td>0.582216</td>\n",
       "      <td>8.373785</td>\n",
       "      <td>8.141335</td>\n",
       "    </tr>\n",
       "    <tr>\n",
       "      <th>...</th>\n",
       "      <td>...</td>\n",
       "      <td>...</td>\n",
       "      <td>...</td>\n",
       "      <td>...</td>\n",
       "      <td>...</td>\n",
       "      <td>...</td>\n",
       "      <td>...</td>\n",
       "      <td>...</td>\n",
       "      <td>...</td>\n",
       "      <td>...</td>\n",
       "    </tr>\n",
       "    <tr>\n",
       "      <th>29607</th>\n",
       "      <td>Morocco</td>\n",
       "      <td>Morocco</td>\n",
       "      <td>cereals</td>\n",
       "      <td>5401005.0</td>\n",
       "      <td>9874543.0</td>\n",
       "      <td>2013</td>\n",
       "      <td>1.8283</td>\n",
       "      <td>1.039676</td>\n",
       "      <td>15.502096</td>\n",
       "      <td>16.105471</td>\n",
       "    </tr>\n",
       "    <tr>\n",
       "      <th>29608</th>\n",
       "      <td>Morocco</td>\n",
       "      <td>Morocco</td>\n",
       "      <td>cereals</td>\n",
       "      <td>4770494.0</td>\n",
       "      <td>6937687.0</td>\n",
       "      <td>2014</td>\n",
       "      <td>1.4543</td>\n",
       "      <td>0.897842</td>\n",
       "      <td>15.377961</td>\n",
       "      <td>15.752479</td>\n",
       "    </tr>\n",
       "    <tr>\n",
       "      <th>29609</th>\n",
       "      <td>Morocco</td>\n",
       "      <td>Morocco</td>\n",
       "      <td>cereals</td>\n",
       "      <td>5460480.0</td>\n",
       "      <td>11689100.0</td>\n",
       "      <td>2015</td>\n",
       "      <td>2.1407</td>\n",
       "      <td>1.144446</td>\n",
       "      <td>15.513047</td>\n",
       "      <td>16.274167</td>\n",
       "    </tr>\n",
       "    <tr>\n",
       "      <th>29610</th>\n",
       "      <td>Morocco</td>\n",
       "      <td>Morocco</td>\n",
       "      <td>cereals</td>\n",
       "      <td>3804496.0</td>\n",
       "      <td>3561589.0</td>\n",
       "      <td>2016</td>\n",
       "      <td>0.9362</td>\n",
       "      <td>0.660727</td>\n",
       "      <td>15.151694</td>\n",
       "      <td>15.085718</td>\n",
       "    </tr>\n",
       "    <tr>\n",
       "      <th>29611</th>\n",
       "      <td>Morocco</td>\n",
       "      <td>Morocco</td>\n",
       "      <td>cereals</td>\n",
       "      <td>5568363.0</td>\n",
       "      <td>9787246.0</td>\n",
       "      <td>2017</td>\n",
       "      <td>1.7577</td>\n",
       "      <td>1.014397</td>\n",
       "      <td>15.532612</td>\n",
       "      <td>16.096591</td>\n",
       "    </tr>\n",
       "  </tbody>\n",
       "</table>\n",
       "<p>80 rows × 10 columns</p>\n",
       "</div>"
      ],
      "text/plain": [
       "      national subnational     crop  hectares (ha)  production (tonnes)  year  \\\n",
       "29532  Morocco     Morocco  cereals         3596.0               2046.6  1938   \n",
       "29533  Morocco     Morocco  cereals         4141.0               3841.9  1939   \n",
       "29534  Morocco     Morocco  cereals         4466.0               2998.8  1940   \n",
       "29535  Morocco     Morocco  cereals         4466.0               3950.9  1941   \n",
       "29536  Morocco     Morocco  cereals         4331.0               3432.5  1942   \n",
       "...        ...         ...      ...            ...                  ...   ...   \n",
       "29607  Morocco     Morocco  cereals      5401005.0            9874543.0  2013   \n",
       "29608  Morocco     Morocco  cereals      4770494.0            6937687.0  2014   \n",
       "29609  Morocco     Morocco  cereals      5460480.0           11689100.0  2015   \n",
       "29610  Morocco     Morocco  cereals      3804496.0            3561589.0  2016   \n",
       "29611  Morocco     Morocco  cereals      5568363.0            9787246.0  2017   \n",
       "\n",
       "       yield(tonnes/ha)  log_yield  log_hectares  log_production  \n",
       "29532            0.5700   0.451076      8.187855        7.624424  \n",
       "29533            0.9300   0.657520      8.328934        8.253983  \n",
       "29534            0.6700   0.512824      8.404472        8.006301  \n",
       "29535            0.8800   0.631272      8.404472        8.281952  \n",
       "29536            0.7900   0.582216      8.373785        8.141335  \n",
       "...                 ...        ...           ...             ...  \n",
       "29607            1.8283   1.039676     15.502096       16.105471  \n",
       "29608            1.4543   0.897842     15.377961       15.752479  \n",
       "29609            2.1407   1.144446     15.513047       16.274167  \n",
       "29610            0.9362   0.660727     15.151694       15.085718  \n",
       "29611            1.7577   1.014397     15.532612       16.096591  \n",
       "\n",
       "[80 rows x 10 columns]"
      ]
     },
     "execution_count": 184,
     "metadata": {},
     "output_type": "execute_result"
    }
   ],
   "source": [
    "df_cereals"
   ]
  },
  {
   "cell_type": "markdown",
   "metadata": {},
   "source": [
    "we should use subnational"
   ]
  },
  {
   "cell_type": "code",
   "execution_count": 189,
   "metadata": {},
   "outputs": [
    {
     "data": {
      "text/plain": [
       "array(['ALABAMA', 'ARIZONA', 'ARKANSAS', 'CALIFORNIA', 'COLORADO',\n",
       "       'DELAWARE', 'FLORIDA', 'GEORGIA', 'IDAHO', 'ILLINOIS', 'INDIANA',\n",
       "       'IOWA', 'KANSAS', 'KENTUCKY', 'LOUISIANA', 'MARYLAND', 'MICHIGAN',\n",
       "       'MINNESOTA', 'MISSISSIPPI', 'MISSOURI', 'MONTANA', 'NEBRASKA',\n",
       "       'NEVADA', 'NEW JERSEY', 'NEW MEXICO', 'NEW YORK', 'NORTH CAROLINA',\n",
       "       'NORTH DAKOTA', 'OHIO', 'OKLAHOMA', 'OREGON', 'PENNSYLVANIA',\n",
       "       'SOUTH CAROLINA', 'SOUTH DAKOTA', 'TENNESSEE', 'TEXAS', 'UTAH',\n",
       "       'VIRGINIA', 'WASHINGTON', 'WEST VIRGINIA', 'WISCONSIN', 'WYOMING',\n",
       "       'MAINE', 'VERMONT', 'NEW HAMPSHIRE', 'CONNECTICUT', 'OTHER STATES',\n",
       "       'MASSACHUSETTS', 'RHODE ISLAND'], dtype=object)"
      ]
     },
     "execution_count": 189,
     "metadata": {},
     "output_type": "execute_result"
    }
   ],
   "source": [
    "df[df['national'] == 'United States'].subnational.unique()"
   ]
  }
 ],
 "metadata": {
  "kernelspec": {
   "display_name": "cloudai_venv",
   "language": "python",
   "name": "cloudai_venv"
  },
  "language_info": {
   "codemirror_mode": {
    "name": "ipython",
    "version": 3
   },
   "file_extension": ".py",
   "mimetype": "text/x-python",
   "name": "python",
   "nbconvert_exporter": "python",
   "pygments_lexer": "ipython3",
   "version": "3.10.2"
  },
  "orig_nbformat": 4
 },
 "nbformat": 4,
 "nbformat_minor": 2
}
