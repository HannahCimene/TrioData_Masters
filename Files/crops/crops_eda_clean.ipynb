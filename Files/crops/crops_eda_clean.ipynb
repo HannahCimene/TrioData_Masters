{
 "cells": [
  {
   "cell_type": "code",
   "execution_count": null,
   "metadata": {},
   "outputs": [],
   "source": [
    "import pandas as pd\n",
    "import numpy as np\n",
    "import matplotlib.pyplot as plt\n",
    "import seaborn as sns"
   ]
  },
  {
   "cell_type": "code",
   "execution_count": 7,
   "metadata": {},
   "outputs": [],
   "source": [
    "file = pd.ExcelFile(\"food-twentieth-century-crop-statistics-1900-2017-xlsx.xlsx\")\n",
    "df = file.parse('CropStats')\n",
    "df = df.set_index(df.columns[0])\n",
    "df.index.name = None"
   ]
  },
  {
   "cell_type": "markdown",
   "metadata": {},
   "source": [
    "## Clean Data\n",
    "Columns with too many null values or meaningless information are dropped.  \n",
    "Columns with unclear names are renamed.  \n",
    "For the subnational column null values are filled up with corresponding values from the national column.  \n",
    "For yield, production, and hectares, if one of them is null but the others in the same row are not, the null one can be calculated. Here we need to pay attention to not divide by 0.  \n",
    "We chose to focus on wheat, so we will be filtering the df accordingly.  \n",
    "We also added columns with logarithmic transformations for yield, production, and hectares."
   ]
  },
  {
   "cell_type": "code",
   "execution_count": 8,
   "metadata": {},
   "outputs": [],
   "source": [
    "df.drop(['admin2', 'notes', 'Harvest_year'], axis=1, inplace=True)\n",
    "df.rename(columns = {'admin0': 'national', 'admin1': 'subnational', 'hectares (ha)': 'hectares_ha', 'production (tonnes)': 'production_tonnes', 'yield(tonnes/ha)': 'yield_tonnes_ha'}, inplace=True)\n",
    "df.loc[df['subnational'].isna(), 'subnational'] = df['national']\n",
    "# Calculate yield\n",
    "mask = df['yield_tonnes_ha'].isna() & ~df['production_tonnes'].isna() & ~df['hectares_ha'].isna() & df['hectares_ha'] != 0\n",
    "df.loc[mask, 'yield_tonnes_ha'] = df['production_tonnes'] / df['hectares_ha']\n",
    "df.dropna(subset=['yield_tonnes_ha'], inplace=True)\n",
    "# Calculate production\n",
    "mask = df['production_tonnes'].isna() & ~df['yield_tonnes_ha'].isna() & ~df['hectares_ha'].isna()\n",
    "df.loc[mask, 'production_tonnes'] = df['yield_tonnes_ha'] * df['hectares_ha']\n",
    "df.dropna(subset=['production_tonnes'], inplace=True)\n",
    "# Calculate hectares\n",
    "mask = df['hectares_ha'].isna() & ~df['yield_tonnes_ha'].isna() & ~df['production_tonnes'].isna()\n",
    "df.loc[mask, 'hectares_ha'] = df['yield_tonnes_ha'] * df['production_tonnes']\n",
    "df.dropna(subset=['hectares_ha'], inplace=True)\n",
    "# The columns we just adapted just changed into objects, let's make them floats again\n",
    "df['hectares_ha'] = df['hectares_ha'].astype(float)\n",
    "df['production_tonnes'] = df['production_tonnes'].astype(float)\n",
    "df['yield_tonnes_ha'] = df['yield_tonnes_ha'].astype(float)\n",
    "# Filter for wheat\n",
    "df = df[df['crop'] == 'wheat']\n",
    "# Remove the crop column\n",
    "df.drop('crop', axis=1, inplace =True)\n",
    "# Logarithmic transformations\n",
    "df['log_yield'] = np.log1p(df['yield_tonnes_ha'])\n",
    "df['log_hectares'] = np.log1p(df['production_tonnes'])\n",
    "df['log_production'] = np.log1p(df['hectares_ha'])\n"
   ]
  }
 ],
 "metadata": {
  "kernelspec": {
   "display_name": "venv",
   "language": "python",
   "name": "python3"
  },
  "language_info": {
   "codemirror_mode": {
    "name": "ipython",
    "version": 3
   },
   "file_extension": ".py",
   "mimetype": "text/x-python",
   "name": "python",
   "nbconvert_exporter": "python",
   "pygments_lexer": "ipython3",
   "version": "3.10.7"
  }
 },
 "nbformat": 4,
 "nbformat_minor": 2
}
